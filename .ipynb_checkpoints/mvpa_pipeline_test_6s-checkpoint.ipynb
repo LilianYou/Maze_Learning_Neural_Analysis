{
 "cells": [
  {
   "cell_type": "markdown",
   "metadata": {},
   "source": [
    "# read data"
   ]
  },
  {
   "cell_type": "code",
   "execution_count": 8,
   "metadata": {},
   "outputs": [
    {
     "name": "stdout",
     "output_type": "stream",
     "text": [
      "Requirement already satisfied: joblib in /tmp/nethomes/lily-1000085/.local/lib/python3.7/site-packages (1.0.0)\n",
      "Note: you may need to restart the kernel to use updated packages.\n"
     ]
    }
   ],
   "source": [
    "pip install --user joblib"
   ]
  },
  {
   "cell_type": "code",
   "execution_count": 9,
   "metadata": {},
   "outputs": [],
   "source": [
    "import os\n",
    "import glob\n",
    "import numpy as np\n",
    "import pandas as pd\n",
    "import matplotlib.pyplot as plt\n",
    "import seaborn as sns\n",
    "import random\n",
    "from nltools.data import Brain_Data\n",
    "from nltools.mask import expand_mask\n",
    "from bids import BIDSLayout, BIDSValidator\n",
    "from sklearn.pipeline import make_pipeline\n",
    "from sklearn.preprocessing import MinMaxScaler\n",
    "from sklearn.model_selection import KFold, LeaveOneOut, GridSearchCV, cross_val_score\n",
    "from sklearn.svm import SVC\n",
    "from sklearn.model_selection import permutation_test_score\n",
    "\n",
    "data_dir = '/mnt/chrastil/lab/users/lily/path_direction/localizer_beta_series_all_run_exploration'\n",
    "sub_num = 'sub-033'\n",
    "folder = 'func_4s'\n",
    "\n",
    "E_file_list = glob.glob(os.path.join(data_dir, 'derivatives', 'nibetaseries',sub_num,folder,'*Run*_desc-E*.nii.gz'))\n",
    "E = Brain_Data(E_file_list)\n",
    "\n",
    "N_file_list = glob.glob(os.path.join(data_dir,  'derivatives', 'nibetaseries',sub_num,folder,'*Run*_desc-N*.nii.gz'))\n",
    "N = Brain_Data(N_file_list)\n",
    "\n",
    "W_file_list = glob.glob(os.path.join(data_dir, 'derivatives', 'nibetaseries',sub_num,folder,'*Run*_desc-W*.nii.gz'))\n",
    "W = Brain_Data(W_file_list)\n",
    "\n",
    "S_file_list = glob.glob(os.path.join(data_dir, 'derivatives', 'nibetaseries',sub_num,folder,'*Run*_desc-S*.nii.gz'))\n",
    "S = Brain_Data(S_file_list)\n",
    "                                     \n",
    "data = E.append(N)\n",
    "data = data.append(W)\n",
    "data = data.append(S)\n",
    "Y = pd.DataFrame(np.hstack([np.zeros(len(E.data)), np.ones(len(N.data)),2*np.ones(len(W.data)), 3*np.ones(len(S.data))]))\n",
    "data.Y = Y                                     "
   ]
  },
  {
   "cell_type": "markdown",
   "metadata": {},
   "source": [
    "# roi - thalamus"
   ]
  },
  {
   "cell_type": "code",
   "execution_count": 10,
   "metadata": {},
   "outputs": [
    {
     "name": "stdout",
     "output_type": "stream",
     "text": [
      "Accuracy of thalamus:0.350\n"
     ]
    }
   ],
   "source": [
    "atlas_mni_file = os.path.join(data_dir,\n",
    "                              \"derivatives\",\n",
    "                              \"data\",\n",
    "                              \"HarvardOxford-sub-maxprob-thr25-1mm.nii.gz\")\n",
    "\n",
    "\n",
    "mask = Brain_Data(atlas_mni_file)\n",
    "mask_x = expand_mask(mask)\n",
    "\n",
    "# f = mask.plot()\n",
    "\n",
    "# index - 1 for all because this is python!!!\n",
    "tha = mask_x[[4-1,15-1]].sum() # thalamus\n",
    "\n",
    "data_masked = data.apply_mask(tha)\n",
    "\n",
    "X = data_masked.data\n",
    "Y = data_masked.Y.values.ravel()\n",
    "\n",
    "kfold1 = KFold(n_splits = 3, shuffle = True, random_state = 0)\n",
    "kfold2 = KFold(n_splits = 10, shuffle = True, random_state = 0)\n",
    "param_grid = {'C':[0.001,0.01,0.1,1,10,100], 'gamma':[0.001,0.01,0.1,1,10,100] }\n",
    "\n",
    "X_std = MinMaxScaler().fit_transform(X)\n",
    "svc = SVC(kernel = \"rbf\")\n",
    "cv_scores = cross_val_score(GridSearchCV(svc, param_grid, cv = kfold1, n_jobs = -1), X_std, Y, cv= kfold2, n_jobs = -1)\n",
    "\n",
    "\n",
    "classification_accuracy = cv_scores.mean()\n",
    "print(\"Accuracy of thalamus:{:.3f}\".format(classification_accuracy))"
   ]
  },
  {
   "cell_type": "code",
   "execution_count": 11,
   "metadata": {},
   "outputs": [
    {
     "name": "stdout",
     "output_type": "stream",
     "text": [
      "Accuracy of thalamus random:0.351\n"
     ]
    }
   ],
   "source": [
    "Z = Y.copy()\n",
    "random.shuffle(Z)\n",
    "cv_scores2 = cross_val_score(GridSearchCV(svc, param_grid, cv = kfold1, n_jobs = -1), X_std, Z, cv= kfold2, n_jobs = -1)\n",
    "\n",
    "\n",
    "classification_accuracy2 = cv_scores2.mean()\n",
    "print(\"Accuracy of thalamus random:{:.3f}\".format(classification_accuracy2))"
   ]
  },
  {
   "cell_type": "markdown",
   "metadata": {},
   "source": [
    "# Cortical ROIs: Retrosplenial, Precuneus, Extrastriate Cortex, Early Visual Cortex, Auditory Cortex                                "
   ]
  },
  {
   "cell_type": "code",
   "execution_count": 12,
   "metadata": {},
   "outputs": [],
   "source": [
    "atlas_mni_file = os.path.join(data_dir,\n",
    "                              \"derivatives\",\n",
    "                              \"data\",\n",
    "                              \"Schaefer2018_100Parcels_17Networks_order_FSLMNI152_1mm.nii.gz\")\n",
    "mask = Brain_Data(atlas_mni_file)\n",
    "mask_x = expand_mask(mask)\n",
    "\n",
    "# f = mask.plot()"
   ]
  },
  {
   "cell_type": "code",
   "execution_count": 13,
   "metadata": {},
   "outputs": [
    {
     "ename": "NameError",
     "evalue": "name 'gridSVC' is not defined",
     "output_type": "error",
     "traceback": [
      "\u001b[0;31m---------------------------------------------------------------------------\u001b[0m",
      "\u001b[0;31mNameError\u001b[0m                                 Traceback (most recent call last)",
      "\u001b[0;32m<ipython-input-13-1724f4f0210d>\u001b[0m in \u001b[0;36m<module>\u001b[0;34m\u001b[0m\n\u001b[1;32m     11\u001b[0m \u001b[0;34m\u001b[0m\u001b[0m\n\u001b[1;32m     12\u001b[0m \u001b[0mX_std\u001b[0m \u001b[0;34m=\u001b[0m \u001b[0mMinMaxScaler\u001b[0m\u001b[0;34m(\u001b[0m\u001b[0;34m)\u001b[0m\u001b[0;34m.\u001b[0m\u001b[0mfit_transform\u001b[0m\u001b[0;34m(\u001b[0m\u001b[0mX\u001b[0m\u001b[0;34m)\u001b[0m\u001b[0;34m\u001b[0m\u001b[0;34m\u001b[0m\u001b[0m\n\u001b[0;32m---> 13\u001b[0;31m \u001b[0msvc\u001b[0m \u001b[0;34m=\u001b[0m \u001b[0mgridSVC\u001b[0m\u001b[0;34m(\u001b[0m\u001b[0mkernel\u001b[0m \u001b[0;34m=\u001b[0m \u001b[0;34m\"rbf\"\u001b[0m\u001b[0;34m)\u001b[0m\u001b[0;34m\u001b[0m\u001b[0;34m\u001b[0m\u001b[0m\n\u001b[0m\u001b[1;32m     14\u001b[0m \u001b[0mcv_scores\u001b[0m \u001b[0;34m=\u001b[0m \u001b[0mcross_val_score\u001b[0m\u001b[0;34m(\u001b[0m\u001b[0mGridSearchCV\u001b[0m\u001b[0;34m(\u001b[0m\u001b[0msvc\u001b[0m\u001b[0;34m,\u001b[0m \u001b[0mparam_grid\u001b[0m\u001b[0;34m,\u001b[0m \u001b[0mcv\u001b[0m \u001b[0;34m=\u001b[0m \u001b[0mkfold1\u001b[0m\u001b[0;34m,\u001b[0m \u001b[0mn_jobs\u001b[0m \u001b[0;34m=\u001b[0m \u001b[0;34m-\u001b[0m\u001b[0;36m1\u001b[0m\u001b[0;34m)\u001b[0m\u001b[0;34m,\u001b[0m \u001b[0mX_std\u001b[0m\u001b[0;34m,\u001b[0m \u001b[0mY\u001b[0m\u001b[0;34m,\u001b[0m \u001b[0mcv\u001b[0m\u001b[0;34m=\u001b[0m \u001b[0mkfold2\u001b[0m\u001b[0;34m,\u001b[0m \u001b[0mn_jobs\u001b[0m \u001b[0;34m=\u001b[0m \u001b[0;34m-\u001b[0m\u001b[0;36m1\u001b[0m\u001b[0;34m)\u001b[0m\u001b[0;34m\u001b[0m\u001b[0;34m\u001b[0m\u001b[0m\n\u001b[1;32m     15\u001b[0m \u001b[0;34m\u001b[0m\u001b[0m\n",
      "\u001b[0;31mNameError\u001b[0m: name 'gridSVC' is not defined"
     ]
    }
   ],
   "source": [
    "# # index - 1 for all because this is python!!!\n",
    "rsc = mask_x[[48-1,96-1]].sum() # retrosplenial cortex\n",
    "\n",
    "data_masked = data.apply_mask(rsc)\n",
    "\n",
    "X = data_masked.data\n",
    "Y = data_masked.Y.values.ravel()\n",
    "\n",
    "kfold = KFold(n_splits = 10, shuffle = True, random_state = 0)\n",
    "param_grid = {'C':[0.001,0.01,0.1,1,10,100], 'gamma':[0.001,0.01,0.1,1,10,100] }\n",
    "\n",
    "X_std = MinMaxScaler().fit_transform(X)\n",
    "svc = SVC(kernel = \"rbf\")\n",
    "cv_scores = cross_val_score(GridSearchCV(svc, param_grid, cv = kfold1, n_jobs = -1), X_std, Y, cv= kfold2, n_jobs = -1)\n",
    "\n",
    "\n",
    "classification_accuracy = cv_scores.mean()\n",
    "print(\"Accuracy of retrosplenial cortex:{:.3f}\".format(classification_accuracy))\n",
    "\n",
    "Z = Y.copy()\n",
    "random.shuffle(Z)\n",
    "cv_scores2 = cross_val_score(GridSearchCV(svc, param_grid, cv = kfold1, n_jobs = -1), X_std, Z, cv= kfold2, n_jobs = -1)\n",
    "\n",
    "\n",
    "classification_accuracy2 = cv_scores2.mean()\n",
    "print(\"Accuracy of retrosplenial cortex random:{:.3f}\".format(classification_accuracy2))"
   ]
  },
  {
   "cell_type": "code",
   "execution_count": null,
   "metadata": {},
   "outputs": [],
   "source": [
    "# # index - 1 for all because this is python!!!\n",
    "pcun = mask_x[[35-1,36-1]].sum() # precuneus\n",
    "\n",
    "data_masked = data.apply_mask(pcun)\n",
    "\n",
    "X = data_masked.data\n",
    "Y = data_masked.Y.values.ravel()\n",
    "\n",
    "kfold = KFold(n_splits = 10, shuffle = True, random_state = 0)\n",
    "param_grid = {'C':[0.001,0.01,0.1,1,10,100], 'gamma':[0.001,0.01,0.1,1,10,100] }\n",
    "\n",
    "X_std = MinMaxScaler().fit_transform(X)\n",
    "svc = SVC(kernel = \"rbf\")\n",
    "cv_scores = cross_val_score(GridSearchCV(svc, param_grid, cv = kfold1, n_jobs = -1), X_std, Y, cv= kfold2, n_jobs = -1)\n",
    "\n",
    "\n",
    "classification_accuracy = cv_scores.mean()\n",
    "print(\"Accuracy of precuneus:{:.3f}\".format(classification_accuracy))\n",
    "\n",
    "Z = Y.copy()\n",
    "random.shuffle(Z)\n",
    "cv_scores2 = cross_val_score(GridSearchCV(svc, param_grid, cv = kfold1, n_jobs = -1), X_std, Z, cv= kfold2, n_jobs = -1)\n",
    "\n",
    "\n",
    "classification_accuracy2 = cv_scores2.mean()\n",
    "print(\"Accuracy of precuneus random:{:.3f}\".format(classification_accuracy2))"
   ]
  },
  {
   "cell_type": "code",
   "execution_count": null,
   "metadata": {},
   "outputs": [],
   "source": [
    "# # index - 1 for all because this is python!!!\n",
    "\n",
    "ext = mask_x[[1-1,2-1,4-1,51-1,52-1,53-1]].sum() # extrastriate cortex\n",
    "\n",
    "data_masked = data.apply_mask(ext)\n",
    "\n",
    "X = data_masked.data\n",
    "Y = data_masked.Y.values.ravel()\n",
    "\n",
    "kfold = KFold(n_splits = 10, shuffle = True, random_state = 0)\n",
    "param_grid = {'C':[0.001,0.01,0.1,1,10,100], 'gamma':[0.001,0.01,0.1,1,10,100] }\n",
    "\n",
    "X_std = MinMaxScaler().fit_transform(X)\n",
    "svc = SVC(kernel = \"rbf\")\n",
    "cv_scores = cross_val_score(GridSearchCV(svc, param_grid, cv = kfold1, n_jobs = -1), X_std, Y, cv= kfold2, n_jobs = -1)\n",
    "\n",
    "\n",
    "classification_accuracy = cv_scores.mean()\n",
    "print(\"Accuracy of extrastriate cortex:{:.3f}\".format(classification_accuracy))\n",
    "\n",
    "Z = Y.copy()\n",
    "random.shuffle(Z)\n",
    "cv_scores2 = cross_val_score(GridSearchCV(svc, param_grid, cv = kfold1, n_jobs = -1), X_std, Z, cv= kfold2, n_jobs = -1)\n",
    "\n",
    "\n",
    "classification_accuracy2 = cv_scores2.mean()\n",
    "print(\"Accuracy of extrastriate cortex random:{:.3f}\".format(classification_accuracy2))"
   ]
  },
  {
   "cell_type": "code",
   "execution_count": null,
   "metadata": {},
   "outputs": [],
   "source": [
    "# striate 3, strical LH 6 & RH 54\n",
    "evc = mask_x[[3-1,6-1,54-1]].sum() # striate cortex + peri strical\n",
    "data_masked = data.apply_mask(evc)\n",
    "\n",
    "X = data_masked.data\n",
    "Y = data_masked.Y.values.ravel()\n",
    "\n",
    "kfold = KFold(n_splits = 10, shuffle = True, random_state = 0)\n",
    "param_grid = {'C':[0.001,0.01,0.1,1,10,100], 'gamma':[0.001,0.01,0.1,1,10,100] }\n",
    "\n",
    "X_std = MinMaxScaler().fit_transform(X)\n",
    "svc = SVC(kernel = \"rbf\")\n",
    "cv_scores = cross_val_score(GridSearchCV(svc, param_grid, cv = kfold1, n_jobs = -1), X_std, Y, cv= kfold2, n_jobs = -1)\n",
    "\n",
    "\n",
    "classification_accuracy = cv_scores.mean()\n",
    "print(\"Accuracy of early visual cortex:{:.3f}\".format(classification_accuracy))\n",
    "\n",
    "Z = Y.copy()\n",
    "random.shuffle(Z)\n",
    "cv_scores2 = cross_val_score(GridSearchCV(svc, param_grid, cv = kfold1, n_jobs = -1), X_std, Z, cv= kfold2, n_jobs = -1)\n",
    "\n",
    "\n",
    "classification_accuracy2 = cv_scores2.mean()\n",
    "print(\"Accuracy of early visual cortex random:{:.3f}\".format(classification_accuracy2))"
   ]
  },
  {
   "cell_type": "code",
   "execution_count": null,
   "metadata": {},
   "outputs": [],
   "source": [
    "# auditory cortex 10, 61\n",
    "aud = mask_x[[10-1,61-1]].sum() # striate cortex + peri strical\n",
    "data_masked = data.apply_mask(aud)\n",
    "\n",
    "X = data_masked.data\n",
    "Y = data_masked.Y.values.ravel()\n",
    "\n",
    "kfold = KFold(n_splits = 10, shuffle = True, random_state = 0)\n",
    "param_grid = {'C':[0.001,0.01,0.1,1,10,100], 'gamma':[0.001,0.01,0.1,1,10,100] }\n",
    "\n",
    "X_std = MinMaxScaler().fit_transform(X)\n",
    "svc = SVC(kernel = \"rbf\")\n",
    "cv_scores = cross_val_score(GridSearchCV(svc, param_grid, cv = kfold1, n_jobs = -1), X_std, Y, cv= kfold2, n_jobs = -1)\n",
    "\n",
    "\n",
    "classification_accuracy = cv_scores.mean()\n",
    "print(\"Accuracy of auditory cortex:{:.3f}\".format(classification_accuracy))\n",
    "\n",
    "Z = Y.copy()\n",
    "random.shuffle(Z)\n",
    "cv_scores2 = cross_val_score(GridSearchCV(svc, param_grid, cv = kfold1, n_jobs = -1), X_std, Z, cv= kfold2, n_jobs = -1)\n",
    "\n",
    "\n",
    "classification_accuracy2 = cv_scores2.mean()\n",
    "print(\"Accuracy of auditory cortex random:{:.3f}\".format(classification_accuracy2))"
   ]
  }
 ],
 "metadata": {
  "kernelspec": {
   "display_name": "Python 3",
   "language": "python",
   "name": "python3"
  },
  "language_info": {
   "codemirror_mode": {
    "name": "ipython",
    "version": 3
   },
   "file_extension": ".py",
   "mimetype": "text/x-python",
   "name": "python",
   "nbconvert_exporter": "python",
   "pygments_lexer": "ipython3",
   "version": "3.7.7"
  }
 },
 "nbformat": 4,
 "nbformat_minor": 4
}
