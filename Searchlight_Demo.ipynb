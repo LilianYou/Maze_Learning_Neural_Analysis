{
 "cells": [
  {
   "cell_type": "code",
   "execution_count": 64,
   "metadata": {},
   "outputs": [],
   "source": [
    "import pandas as pd\n",
    "# from nilearn import datasets\n",
    "from nilearn.image import new_img_like, load_img, get_data, index_img\n",
    "import numpy as np\n",
    "import os \n",
    "import glob\n",
    "from nltools.data import Brain_Data"
   ]
  },
  {
   "cell_type": "markdown",
   "metadata": {},
   "source": [
    "# Prepare data"
   ]
  },
  {
   "cell_type": "code",
   "execution_count": 20,
   "metadata": {},
   "outputs": [
    {
     "name": "stdout",
     "output_type": "stream",
     "text": [
      "['/mnt/chrastil/lab/users/lily/path_direction/localizer_beta_series_all_run_exploration/derivatives/nibetaseries_no_atlas/sub-002/func/sub-002_task-boldEx_run-1_space-MNI152NLin2009cAsym_desc-E_betaseries.nii.gz', '/mnt/chrastil/lab/users/lily/path_direction/localizer_beta_series_all_run_exploration/derivatives/nibetaseries_no_atlas/sub-002/func/sub-002_task-boldEx2_run-1_space-MNI152NLin2009cAsym_desc-E_betaseries.nii.gz']\n"
     ]
    }
   ],
   "source": [
    "data_dir = '/mnt/chrastil/lab/users/lily/path_direction/localizer_beta_series_all_run_exploration'\n",
    "data_dir1 = '/mnt/chrastil/lab/users/lily/path_direction/localizer_beta_series_all_run_exploration/derivatives/nibetaseries_no_atlas'\n",
    "\n",
    "folder = 'func'\n",
    "\n",
    "file_list = glob.glob(os.path.join(data_dir1, sub_num))\n",
    "# file_list.pop(1) # get rid of subject 3 who does not have exploration data\n",
    "# file_list.pop(1) # get rid of subject 5 who does not have exploration data\n",
    "# file_list.pop(1) # get rid of subject 14 who does not have exploration data\n",
    "\n",
    "# create a dataframe to store data\n",
    "#colnames = ['sub', 'thalamus', 'retrosplenial', 'precuneus', 'extrastriate', 'early_visual', 'auditory']\n",
    "#roi_explore = pd.DataFrame(np.zeros((len(file_list), len(colnames))), columns = colnames)\n",
    "#roi_explore_rand = pd.DataFrame(np.zeros((len(file_list), len(colnames))), columns = colnames)\n",
    "\n",
    "counter = 0\n",
    "for i in file_list:\n",
    "    sub_num = str.split(i, '/')[-1]\n",
    "    \n",
    "    # save subject number\n",
    "    input_subnum = str.split(sub_num,'-')[-1]\n",
    "    #roi_explore.iloc[counter]['sub'] = int(input_subnum)\n",
    "    #roi_explore_rand.iloc[counter]['sub'] = int(input_subnum)\n",
    "    \n",
    "    # create raw data\n",
    "    E_file_list = glob.glob(os.path.join(data_dir, 'derivatives', 'nibetaseries_no_atlas',sub_num,folder,'*Ex*_desc-E*.nii.gz'))\n",
    "    print(E_file_list)\n",
    "    E = Brain_Data(E_file_list)\n",
    "\n",
    "    N_file_list = glob.glob(os.path.join(data_dir,  'derivatives', 'nibetaseries_no_atlas',sub_num,folder,'*Ex*_desc-N*.nii.gz'))\n",
    "    N = Brain_Data(N_file_list)\n",
    "\n",
    "    W_file_list = glob.glob(os.path.join(data_dir, 'derivatives', 'nibetaseries_no_atlas',sub_num,folder,'*Ex*_desc-W*.nii.gz'))\n",
    "    W = Brain_Data(W_file_list)\n",
    "\n",
    "    S_file_list = glob.glob(os.path.join(data_dir, 'derivatives', 'nibetaseries_no_atlas',sub_num,folder,'*Ex*_desc-S*.nii.gz'))\n",
    "    S = Brain_Data(S_file_list)\n",
    "\n",
    "    data = E.append(N)\n",
    "    data = data.append(W)\n",
    "    data = data.append(S)\n",
    "    Y = pd.DataFrame(np.hstack([np.zeros(len(E.data)), np.ones(len(N.data)),2*np.ones(len(W.data)), 3*np.ones(len(S.data))]))\n",
    "    #data.Y = Y\n",
    "    \n",
    "    "
   ]
  },
  {
   "cell_type": "code",
   "execution_count": 42,
   "metadata": {},
   "outputs": [
    {
     "name": "stdout",
     "output_type": "stream",
     "text": [
      "['/mnt/chrastil/lab/users/lily/path_direction/localizer_beta_series_all_run_exploration/derivatives/nibetaseries_no_atlas/sub-002/func/sub-002_task-boldEx_run-1_space-MNI152NLin2009cAsym_desc-E_betaseries.nii.gz', '/mnt/chrastil/lab/users/lily/path_direction/localizer_beta_series_all_run_exploration/derivatives/nibetaseries_no_atlas/sub-002/func/sub-002_task-boldEx_run-1_space-MNI152NLin2009cAsym_desc-N_betaseries.nii.gz', '/mnt/chrastil/lab/users/lily/path_direction/localizer_beta_series_all_run_exploration/derivatives/nibetaseries_no_atlas/sub-002/func/sub-002_task-boldEx_run-1_space-MNI152NLin2009cAsym_desc-W_betaseries.nii.gz', '/mnt/chrastil/lab/users/lily/path_direction/localizer_beta_series_all_run_exploration/derivatives/nibetaseries_no_atlas/sub-002/func/sub-002_task-boldEx_run-1_space-MNI152NLin2009cAsym_desc-S_betaseries.nii.gz', '/mnt/chrastil/lab/users/lily/path_direction/localizer_beta_series_all_run_exploration/derivatives/nibetaseries_no_atlas/sub-002/func/sub-002_task-boldEx2_run-1_space-MNI152NLin2009cAsym_desc-W_betaseries.nii.gz', '/mnt/chrastil/lab/users/lily/path_direction/localizer_beta_series_all_run_exploration/derivatives/nibetaseries_no_atlas/sub-002/func/sub-002_task-boldEx2_run-1_space-MNI152NLin2009cAsym_desc-S_betaseries.nii.gz', '/mnt/chrastil/lab/users/lily/path_direction/localizer_beta_series_all_run_exploration/derivatives/nibetaseries_no_atlas/sub-002/func/sub-002_task-boldEx2_run-1_space-MNI152NLin2009cAsym_desc-N_betaseries.nii.gz', '/mnt/chrastil/lab/users/lily/path_direction/localizer_beta_series_all_run_exploration/derivatives/nibetaseries_no_atlas/sub-002/func/sub-002_task-boldEx2_run-1_space-MNI152NLin2009cAsym_desc-E_betaseries.nii.gz']\n"
     ]
    }
   ],
   "source": [
    "demo_file_list = glob.glob(os.path.join(data_dir, 'derivatives', 'nibetaseries_no_atlas',sub_num,folder,'*Ex*_desc-*.nii.gz'))\n",
    "print(demo_file_list)\n",
    "\n"
   ]
  },
  {
   "cell_type": "code",
   "execution_count": 43,
   "metadata": {},
   "outputs": [],
   "source": [
    "demo_img = load_img(demo_file_list)"
   ]
  },
  {
   "cell_type": "code",
   "execution_count": 44,
   "metadata": {},
   "outputs": [
    {
     "data": {
      "text/plain": [
       "(97, 115, 97, 138)"
      ]
     },
     "execution_count": 44,
     "metadata": {},
     "output_type": "execute_result"
    }
   ],
   "source": [
    "demo_img.shape"
   ]
  },
  {
   "cell_type": "code",
   "execution_count": 30,
   "metadata": {},
   "outputs": [],
   "source": [
    "E1 = load_img(E_file_list)"
   ]
  },
  {
   "cell_type": "code",
   "execution_count": 33,
   "metadata": {},
   "outputs": [],
   "source": [
    "N1 = load_img(N_file_list)"
   ]
  },
  {
   "cell_type": "code",
   "execution_count": 40,
   "metadata": {},
   "outputs": [
    {
     "data": {
      "text/plain": [
       "(97, 115, 97, 43)"
      ]
     },
     "execution_count": 40,
     "metadata": {},
     "output_type": "execute_result"
    }
   ],
   "source": [
    "E1.shape"
   ]
  },
  {
   "cell_type": "code",
   "execution_count": 41,
   "metadata": {},
   "outputs": [
    {
     "data": {
      "text/plain": [
       "(97, 115, 97, 35)"
      ]
     },
     "execution_count": 41,
     "metadata": {},
     "output_type": "execute_result"
    }
   ],
   "source": [
    "N1.shape"
   ]
  },
  {
   "cell_type": "code",
   "execution_count": 89,
   "metadata": {},
   "outputs": [],
   "source": [
    "direction = str.split((str.split((str.split(demo_file_list[1], '/')[-1]),'-')[-1]),'_')[0]"
   ]
  },
  {
   "cell_type": "code",
   "execution_count": 88,
   "metadata": {},
   "outputs": [],
   "source": [
    "direction_num = load_img(demo_file_list[1]).shape[3]"
   ]
  },
  {
   "cell_type": "code",
   "execution_count": 109,
   "metadata": {},
   "outputs": [],
   "source": [
    "test_x = load_img(demo_file_list[0:2])"
   ]
  },
  {
   "cell_type": "code",
   "execution_count": 131,
   "metadata": {},
   "outputs": [],
   "source": [
    "test_x2 = test_x.slicer[1:2]"
   ]
  },
  {
   "cell_type": "code",
   "execution_count": 133,
   "metadata": {},
   "outputs": [
    {
     "data": {
      "text/plain": [
       "(1, 115, 97, 43)"
      ]
     },
     "execution_count": 133,
     "metadata": {},
     "output_type": "execute_result"
    }
   ],
   "source": [
    "test_x2.shape"
   ]
  },
  {
   "cell_type": "code",
   "execution_count": 112,
   "metadata": {},
   "outputs": [
    {
     "data": {
      "text/plain": [
       "['/mnt/chrastil/lab/users/lily/path_direction/localizer_beta_series_all_run_exploration/derivatives/nibetaseries_no_atlas/sub-002/func/sub-002_task-boldEx_run-1_space-MNI152NLin2009cAsym_desc-E_betaseries.nii.gz',\n",
       " '/mnt/chrastil/lab/users/lily/path_direction/localizer_beta_series_all_run_exploration/derivatives/nibetaseries_no_atlas/sub-002/func/sub-002_task-boldEx_run-1_space-MNI152NLin2009cAsym_desc-N_betaseries.nii.gz']"
      ]
     },
     "execution_count": 112,
     "metadata": {},
     "output_type": "execute_result"
    }
   ],
   "source": [
    "demo_file_list[0:2]"
   ]
  },
  {
   "cell_type": "code",
   "execution_count": 113,
   "metadata": {},
   "outputs": [],
   "source": [
    "# temp y\n",
    "E_num = load_img(demo_file_list[0]).shape[3]\n",
    "N_num = load_img(demo_file_list[1]).shape[3]\n",
    "y = np.hstack([np.zeros(E_num), np.ones(N_num)])\n",
    "           "
   ]
  },
  {
   "cell_type": "code",
   "execution_count": 101,
   "metadata": {},
   "outputs": [
    {
     "name": "stdout",
     "output_type": "stream",
     "text": [
      "[0. 0. 0. 0. 0. 0. 0. 0. 0. 0. 0. 0. 0. 0. 0. 0. 0. 0. 0.]\n"
     ]
    }
   ],
   "source": [
    "if direction == 'N':\n",
    "    y = np.zeros(direction_num)\n",
    "    print(y)"
   ]
  },
  {
   "cell_type": "code",
   "execution_count": 18,
   "metadata": {},
   "outputs": [],
   "source": [
    "X = data.data\n",
    "Y = data.Y.values.ravel()"
   ]
  },
  {
   "cell_type": "markdown",
   "metadata": {},
   "source": [
    "# Prepare masks"
   ]
  },
  {
   "cell_type": "code",
   "execution_count": 4,
   "metadata": {},
   "outputs": [],
   "source": [
    "sub_num = \"sub-002\""
   ]
  },
  {
   "cell_type": "code",
   "execution_count": 7,
   "metadata": {},
   "outputs": [],
   "source": [
    "data_dir = '/mnt/chrastil/lab/users/lily/path_direction/localizer_beta_series_all_run_exploration'\n",
    "whole_brain_mask = sub_num+ '_space-MNI152NLin2009cAsym_desc-brain_mask.nii.gz'\n",
    "whole_brain_mask_path = os.path.join(data_dir, \"derivatives\",\"fmriprep\",sub_num,\"anat\",whole_brain_mask)"
   ]
  },
  {
   "cell_type": "code",
   "execution_count": 135,
   "metadata": {},
   "outputs": [],
   "source": [
    "mask_img = load_img(whole_brain_mask_path)"
   ]
  },
  {
   "cell_type": "code",
   "execution_count": 136,
   "metadata": {},
   "outputs": [],
   "source": [
    "# .astype() makes a copy.\n",
    "process_mask = get_data(mask_img).astype(np.int)\n",
    "picked_slice = 29\n",
    "process_mask[..., (picked_slice + 1):] = 0\n",
    "process_mask[..., :picked_slice] = 0\n",
    "process_mask[:, 30:] = 0\n",
    "process_mask_img = new_img_like(mask_img, process_mask)"
   ]
  },
  {
   "cell_type": "markdown",
   "metadata": {},
   "source": [
    "# Searchlight computation"
   ]
  },
  {
   "cell_type": "code",
   "execution_count": 139,
   "metadata": {},
   "outputs": [],
   "source": [
    "# Make processing parallel\n",
    "# /!\\ As each thread will print its progress, n_jobs > 1 could mess up the\n",
    "#     information output.\n",
    "n_jobs = 1\n",
    "\n",
    "# Define the cross-validation scheme used for validation.\n",
    "# Here we use a KFold cross-validation on the session, which corresponds to\n",
    "# splitting the samples in 4 folds and make 4 runs using each fold as a test\n",
    "# set once and the others as learning sets\n",
    "from sklearn.model_selection import KFold\n",
    "cv = KFold(n_splits=4)\n",
    "\n",
    "import nilearn.decoding\n",
    "# The radius is the one of the Searchlight sphere that will scan the volume\n",
    "searchlight = nilearn.decoding.SearchLight(\n",
    "    mask_img,\n",
    "    process_mask_img=process_mask_img,\n",
    "    radius=5.6, n_jobs=n_jobs,\n",
    "    verbose=1, cv=cv)\n"
   ]
  },
  {
   "cell_type": "code",
   "execution_count": null,
   "metadata": {},
   "outputs": [],
   "source": [
    "searchlight.fit(test_x, y)"
   ]
  },
  {
   "cell_type": "code",
   "execution_count": null,
   "metadata": {},
   "outputs": [],
   "source": [
    "# feb 24 7:57 pm 43"
   ]
  },
  {
   "cell_type": "code",
   "execution_count": 119,
   "metadata": {},
   "outputs": [],
   "source": [
    "from nilearn.input_data import NiftiMasker\n",
    "\n",
    "# For decoding, standardizing is often very important\n",
    "nifti_masker = NiftiMasker(mask_img=mask_img, \n",
    "                           standardize=True, memory='nilearn_cache',\n",
    "                           memory_level=1)\n",
    "fmri_masked = nifti_masker.fit_transform(test_x)\n",
    "\n",
    "from sklearn.feature_selection import f_classif\n",
    "f_values, p_values = f_classif(fmri_masked, y)\n",
    "p_values = -np.log10(p_values)\n",
    "p_values[p_values > 10] = 10\n",
    "p_unmasked = get_data(nifti_masker.inverse_transform(p_values))"
   ]
  },
  {
   "cell_type": "code",
   "execution_count": 121,
   "metadata": {},
   "outputs": [
    {
     "ename": "ValueError",
     "evalue": "zero-size array to reduction operation fmax which has no identity",
     "output_type": "error",
     "traceback": [
      "\u001b[0;31m---------------------------------------------------------------------------\u001b[0m",
      "\u001b[0;31mValueError\u001b[0m                                Traceback (most recent call last)",
      "\u001b[0;32m<ipython-input-121-8b6693436c26>\u001b[0m in \u001b[0;36m<module>\u001b[0;34m\u001b[0m\n\u001b[1;32m     17\u001b[0m               \u001b[0mtitle\u001b[0m\u001b[0;34m=\u001b[0m\u001b[0;34m\"F-scores\"\u001b[0m\u001b[0;34m,\u001b[0m \u001b[0mdisplay_mode\u001b[0m\u001b[0;34m=\u001b[0m\u001b[0;34m\"z\"\u001b[0m\u001b[0;34m,\u001b[0m\u001b[0;34m\u001b[0m\u001b[0;34m\u001b[0m\u001b[0m\n\u001b[1;32m     18\u001b[0m               \u001b[0mcut_coords\u001b[0m\u001b[0;34m=\u001b[0m\u001b[0;34m[\u001b[0m\u001b[0;34m-\u001b[0m\u001b[0;36m9\u001b[0m\u001b[0;34m]\u001b[0m\u001b[0;34m,\u001b[0m\u001b[0;34m\u001b[0m\u001b[0;34m\u001b[0m\u001b[0m\n\u001b[0;32m---> 19\u001b[0;31m               colorbar=False)\n\u001b[0m\u001b[1;32m     20\u001b[0m \u001b[0;34m\u001b[0m\u001b[0m\n\u001b[1;32m     21\u001b[0m \u001b[0;34m\u001b[0m\u001b[0m\n",
      "\u001b[0;32m~/.local/lib/python3.7/site-packages/nilearn/plotting/img_plotting.py\u001b[0m in \u001b[0;36mplot_stat_map\u001b[0;34m(stat_map_img, bg_img, cut_coords, output_file, display_mode, colorbar, figure, axes, title, threshold, annotate, draw_cross, black_bg, cmap, symmetric_cbar, dim, vmax, resampling_interpolation, **kwargs)\u001b[0m\n\u001b[1;32m   1162\u001b[0m         \u001b[0mvmax\u001b[0m\u001b[0;34m,\u001b[0m\u001b[0;34m\u001b[0m\u001b[0;34m\u001b[0m\u001b[0m\n\u001b[1;32m   1163\u001b[0m         \u001b[0msymmetric_cbar\u001b[0m\u001b[0;34m,\u001b[0m\u001b[0;34m\u001b[0m\u001b[0;34m\u001b[0m\u001b[0m\n\u001b[0;32m-> 1164\u001b[0;31m         kwargs)\n\u001b[0m\u001b[1;32m   1165\u001b[0m \u001b[0;34m\u001b[0m\u001b[0m\n\u001b[1;32m   1166\u001b[0m     display = _plot_img_with_bg(\n",
      "\u001b[0;32m~/.local/lib/python3.7/site-packages/nilearn/plotting/img_plotting.py\u001b[0m in \u001b[0;36m_get_colorbar_and_data_ranges\u001b[0;34m(stat_map_data, vmax, symmetric_cbar, kwargs, force_min_stat_map_value)\u001b[0m\n\u001b[1;32m     81\u001b[0m             stat_map_data = np.asarray(\n\u001b[1;32m     82\u001b[0m                 stat_map_data[np.logical_not(stat_map_data._mask)])\n\u001b[0;32m---> 83\u001b[0;31m         \u001b[0mstat_map_max\u001b[0m \u001b[0;34m=\u001b[0m \u001b[0mnp\u001b[0m\u001b[0;34m.\u001b[0m\u001b[0mnanmax\u001b[0m\u001b[0;34m(\u001b[0m\u001b[0mstat_map_data\u001b[0m\u001b[0;34m)\u001b[0m\u001b[0;34m\u001b[0m\u001b[0;34m\u001b[0m\u001b[0m\n\u001b[0m\u001b[1;32m     84\u001b[0m         \u001b[0;32mif\u001b[0m \u001b[0mforce_min_stat_map_value\u001b[0m \u001b[0;32mis\u001b[0m \u001b[0;32mNone\u001b[0m\u001b[0;34m:\u001b[0m\u001b[0;34m\u001b[0m\u001b[0;34m\u001b[0m\u001b[0m\n\u001b[1;32m     85\u001b[0m             \u001b[0mstat_map_min\u001b[0m \u001b[0;34m=\u001b[0m \u001b[0mnp\u001b[0m\u001b[0;34m.\u001b[0m\u001b[0mnanmin\u001b[0m\u001b[0;34m(\u001b[0m\u001b[0mstat_map_data\u001b[0m\u001b[0;34m)\u001b[0m\u001b[0;34m\u001b[0m\u001b[0;34m\u001b[0m\u001b[0m\n",
      "\u001b[0;32m<__array_function__ internals>\u001b[0m in \u001b[0;36mnanmax\u001b[0;34m(*args, **kwargs)\u001b[0m\n",
      "\u001b[0;32m/mnt/chrastil/lab/snlbin/programs/mnt/lib/python3.7/site-packages/numpy/lib/nanfunctions.py\u001b[0m in \u001b[0;36mnanmax\u001b[0;34m(a, axis, out, keepdims)\u001b[0m\n\u001b[1;32m    434\u001b[0m         \u001b[0;31m# Fast, but not safe for subclasses of ndarray, or object arrays,\u001b[0m\u001b[0;34m\u001b[0m\u001b[0;34m\u001b[0m\u001b[0;34m\u001b[0m\u001b[0m\n\u001b[1;32m    435\u001b[0m         \u001b[0;31m# which do not implement isnan (gh-9009), or fmax correctly (gh-8975)\u001b[0m\u001b[0;34m\u001b[0m\u001b[0;34m\u001b[0m\u001b[0;34m\u001b[0m\u001b[0m\n\u001b[0;32m--> 436\u001b[0;31m         \u001b[0mres\u001b[0m \u001b[0;34m=\u001b[0m \u001b[0mnp\u001b[0m\u001b[0;34m.\u001b[0m\u001b[0mfmax\u001b[0m\u001b[0;34m.\u001b[0m\u001b[0mreduce\u001b[0m\u001b[0;34m(\u001b[0m\u001b[0ma\u001b[0m\u001b[0;34m,\u001b[0m \u001b[0maxis\u001b[0m\u001b[0;34m=\u001b[0m\u001b[0maxis\u001b[0m\u001b[0;34m,\u001b[0m \u001b[0mout\u001b[0m\u001b[0;34m=\u001b[0m\u001b[0mout\u001b[0m\u001b[0;34m,\u001b[0m \u001b[0;34m**\u001b[0m\u001b[0mkwargs\u001b[0m\u001b[0;34m)\u001b[0m\u001b[0;34m\u001b[0m\u001b[0;34m\u001b[0m\u001b[0m\n\u001b[0m\u001b[1;32m    437\u001b[0m         \u001b[0;32mif\u001b[0m \u001b[0mnp\u001b[0m\u001b[0;34m.\u001b[0m\u001b[0misnan\u001b[0m\u001b[0;34m(\u001b[0m\u001b[0mres\u001b[0m\u001b[0;34m)\u001b[0m\u001b[0;34m.\u001b[0m\u001b[0many\u001b[0m\u001b[0;34m(\u001b[0m\u001b[0;34m)\u001b[0m\u001b[0;34m:\u001b[0m\u001b[0;34m\u001b[0m\u001b[0;34m\u001b[0m\u001b[0m\n\u001b[1;32m    438\u001b[0m             warnings.warn(\"All-NaN slice encountered\", RuntimeWarning,\n",
      "\u001b[0;31mValueError\u001b[0m: zero-size array to reduction operation fmax which has no identity"
     ]
    },
    {
     "data": {
      "image/png": "[encoded data removed]",
      "text/plain": [
       "<Figure size 158.4x165.6 with 1 Axes>"
      ]
     },
     "metadata": {},
     "output_type": "display_data"
    }
   ],
   "source": [
    "from nilearn import image\n",
    "mean_fmri = image.mean_img(test_x)\n",
    "\n",
    "from nilearn.plotting import plot_stat_map, plot_img, show\n",
    "searchlight_img = new_img_like(mean_fmri, searchlight.scores_)\n",
    "\n",
    "# Because scores are not a zero-center test statistics, we cannot use\n",
    "# plot_stat_map\n",
    "plot_img(searchlight_img, bg_img=mean_fmri,\n",
    "         title=\"Searchlight\", display_mode=\"z\", cut_coords=[-9],\n",
    "         vmin=.42, cmap='hot', threshold=.2, black_bg=True)\n",
    "\n",
    "# F_score results\n",
    "p_ma = np.ma.array(p_unmasked, mask=np.logical_not(process_mask))\n",
    "f_score_img = new_img_like(mean_fmri, p_ma)\n",
    "plot_stat_map(f_score_img, mean_fmri,\n",
    "              title=\"F-scores\", display_mode=\"z\",\n",
    "              cut_coords=[-9],\n",
    "              colorbar=False)\n",
    "\n",
    "\n",
    "show()"
   ]
  },
  {
   "cell_type": "markdown",
   "metadata": {},
   "source": [
    "# test"
   ]
  },
  {
   "cell_type": "code",
   "execution_count": 45,
   "metadata": {},
   "outputs": [],
   "source": [
    "a = np.array([[1, 2], [3, 4]])"
   ]
  },
  {
   "cell_type": "code",
   "execution_count": 46,
   "metadata": {},
   "outputs": [],
   "source": [
    "b = np.array([[5, 6]])"
   ]
  },
  {
   "cell_type": "code",
   "execution_count": 54,
   "metadata": {},
   "outputs": [],
   "source": [
    "c = np.concatenate((a, b), axis=0)"
   ]
  },
  {
   "cell_type": "code",
   "execution_count": 51,
   "metadata": {},
   "outputs": [
    {
     "data": {
      "text/plain": [
       "(3, 2)"
      ]
     },
     "execution_count": 51,
     "metadata": {},
     "output_type": "execute_result"
    }
   ],
   "source": [
    "c.shape"
   ]
  },
  {
   "cell_type": "code",
   "execution_count": 52,
   "metadata": {},
   "outputs": [
    {
     "data": {
      "text/plain": [
       "array([[1, 2],\n",
       "       [3, 4],\n",
       "       [5, 6]])"
      ]
     },
     "execution_count": 52,
     "metadata": {},
     "output_type": "execute_result"
    }
   ],
   "source": [
    "c"
   ]
  },
  {
   "cell_type": "code",
   "execution_count": 55,
   "metadata": {},
   "outputs": [],
   "source": [
    "d = np.concatenate((a, b.T), axis=1)"
   ]
  },
  {
   "cell_type": "code",
   "execution_count": 57,
   "metadata": {},
   "outputs": [
    {
     "data": {
      "text/plain": [
       "(2, 3)"
      ]
     },
     "execution_count": 57,
     "metadata": {},
     "output_type": "execute_result"
    }
   ],
   "source": [
    "d.shape"
   ]
  },
  {
   "cell_type": "code",
   "execution_count": null,
   "metadata": {},
   "outputs": [],
   "source": []
  }
 ],
 "metadata": {
  "kernelspec": {
   "display_name": "Python 3",
   "language": "python",
   "name": "python3"
  },
  "language_info": {
   "codemirror_mode": {
    "name": "ipython",
    "version": 3
   },
   "file_extension": ".py",
   "mimetype": "text/x-python",
   "name": "python",
   "nbconvert_exporter": "python",
   "pygments_lexer": "ipython3",
   "version": "3.7.7"
  }
 },
 "nbformat": 4,
 "nbformat_minor": 4
}
