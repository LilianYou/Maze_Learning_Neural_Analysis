{
 "cells": [
  {
   "cell_type": "markdown",
   "metadata": {},
   "source": [
    "# read data"
   ]
  },
  {
   "cell_type": "code",
   "execution_count": 29,
   "metadata": {},
   "outputs": [
    {
     "name": "stdout",
     "output_type": "stream",
     "text": [
      "Requirement already satisfied: joblib in /tmp/nethomes/lily-1000085/.local/lib/python3.7/site-packages (1.0.0)\n",
      "Note: you may need to restart the kernel to use updated packages.\n"
     ]
    }
   ],
   "source": [
    "pip install --user joblib"
   ]
  },
  {
   "cell_type": "code",
   "execution_count": 30,
   "metadata": {},
   "outputs": [
    {
     "ename": "KeyboardInterrupt",
     "evalue": "",
     "output_type": "error",
     "traceback": [
      "\u001b[0;31m---------------------------------------------------------------------------\u001b[0m",
      "\u001b[0;31mKeyboardInterrupt\u001b[0m                         Traceback (most recent call last)",
      "\u001b[0;32m<ipython-input-30-5e0f1a2987fd>\u001b[0m in \u001b[0;36m<module>\u001b[0;34m\u001b[0m\n\u001b[1;32m     33\u001b[0m \u001b[0mS_file_list\u001b[0m \u001b[0;34m=\u001b[0m \u001b[0mglob\u001b[0m\u001b[0;34m.\u001b[0m\u001b[0mglob\u001b[0m\u001b[0;34m(\u001b[0m\u001b[0mos\u001b[0m\u001b[0;34m.\u001b[0m\u001b[0mpath\u001b[0m\u001b[0;34m.\u001b[0m\u001b[0mjoin\u001b[0m\u001b[0;34m(\u001b[0m\u001b[0mdata_dir\u001b[0m\u001b[0;34m,\u001b[0m \u001b[0;34m'derivatives'\u001b[0m\u001b[0;34m,\u001b[0m \u001b[0;34m'nibetaseries'\u001b[0m\u001b[0;34m,\u001b[0m\u001b[0msub_num\u001b[0m\u001b[0;34m,\u001b[0m\u001b[0mfolder\u001b[0m\u001b[0;34m,\u001b[0m\u001b[0;34m'*Ex*_desc-S*.nii.gz'\u001b[0m\u001b[0;34m)\u001b[0m\u001b[0;34m)\u001b[0m\u001b[0;34m\u001b[0m\u001b[0;34m\u001b[0m\u001b[0m\n\u001b[1;32m     34\u001b[0m \u001b[0mS_file_list\u001b[0m\u001b[0;34m.\u001b[0m\u001b[0msort\u001b[0m\u001b[0;34m(\u001b[0m\u001b[0;34m)\u001b[0m\u001b[0;34m\u001b[0m\u001b[0;34m\u001b[0m\u001b[0m\n\u001b[0;32m---> 35\u001b[0;31m \u001b[0mS\u001b[0m \u001b[0;34m=\u001b[0m \u001b[0mBrain_Data\u001b[0m\u001b[0;34m(\u001b[0m\u001b[0mS_file_list\u001b[0m\u001b[0;34m)\u001b[0m\u001b[0;34m\u001b[0m\u001b[0;34m\u001b[0m\u001b[0m\n\u001b[0m\u001b[1;32m     36\u001b[0m \u001b[0;34m\u001b[0m\u001b[0m\n\u001b[1;32m     37\u001b[0m \u001b[0mdata\u001b[0m \u001b[0;34m=\u001b[0m \u001b[0mE\u001b[0m\u001b[0;34m.\u001b[0m\u001b[0mappend\u001b[0m\u001b[0;34m(\u001b[0m\u001b[0mN\u001b[0m\u001b[0;34m)\u001b[0m\u001b[0;34m\u001b[0m\u001b[0;34m\u001b[0m\u001b[0m\n",
      "\u001b[0;32m/mnt/chrastil/lab/snlbin/programs/mnt/lib/python3.7/site-packages/nltools/data/brain_data.py\u001b[0m in \u001b[0;36m__init__\u001b[0;34m(self, data, Y, X, mask, output_file, **kwargs)\u001b[0m\n\u001b[1;32m    146\u001b[0m                             \u001b[0;32mif\u001b[0m \u001b[0misinstance\u001b[0m\u001b[0;34m(\u001b[0m\u001b[0mi\u001b[0m\u001b[0;34m,\u001b[0m \u001b[0msix\u001b[0m\u001b[0;34m.\u001b[0m\u001b[0mstring_types\u001b[0m\u001b[0;34m)\u001b[0m\u001b[0;34m:\u001b[0m\u001b[0;34m\u001b[0m\u001b[0;34m\u001b[0m\u001b[0m\n\u001b[1;32m    147\u001b[0m                                 self.data.append(self.nifti_masker.fit_transform(\n\u001b[0;32m--> 148\u001b[0;31m                                                  nib.load(i)))\n\u001b[0m\u001b[1;32m    149\u001b[0m                             \u001b[0;32melif\u001b[0m \u001b[0misinstance\u001b[0m\u001b[0;34m(\u001b[0m\u001b[0mi\u001b[0m\u001b[0;34m,\u001b[0m \u001b[0mnib\u001b[0m\u001b[0;34m.\u001b[0m\u001b[0mNifti1Image\u001b[0m\u001b[0;34m)\u001b[0m\u001b[0;34m:\u001b[0m\u001b[0;34m\u001b[0m\u001b[0;34m\u001b[0m\u001b[0m\n\u001b[1;32m    150\u001b[0m                                 \u001b[0mself\u001b[0m\u001b[0;34m.\u001b[0m\u001b[0mdata\u001b[0m\u001b[0;34m.\u001b[0m\u001b[0mappend\u001b[0m\u001b[0;34m(\u001b[0m\u001b[0mself\u001b[0m\u001b[0;34m.\u001b[0m\u001b[0mnifti_masker\u001b[0m\u001b[0;34m.\u001b[0m\u001b[0mfit_transform\u001b[0m\u001b[0;34m(\u001b[0m\u001b[0mi\u001b[0m\u001b[0;34m)\u001b[0m\u001b[0;34m)\u001b[0m\u001b[0;34m\u001b[0m\u001b[0;34m\u001b[0m\u001b[0m\n",
      "\u001b[0;32m~/.local/lib/python3.7/site-packages/nilearn/input_data/base_masker.py\u001b[0m in \u001b[0;36mfit_transform\u001b[0;34m(self, X, y, confounds, **fit_params)\u001b[0m\n\u001b[1;32m    204\u001b[0m                                 ).transform(X, confounds=confounds)\n\u001b[1;32m    205\u001b[0m             \u001b[0;32melse\u001b[0m\u001b[0;34m:\u001b[0m\u001b[0;34m\u001b[0m\u001b[0;34m\u001b[0m\u001b[0m\n\u001b[0;32m--> 206\u001b[0;31m                 \u001b[0;32mreturn\u001b[0m \u001b[0mself\u001b[0m\u001b[0;34m.\u001b[0m\u001b[0mfit\u001b[0m\u001b[0;34m(\u001b[0m\u001b[0;34m**\u001b[0m\u001b[0mfit_params\u001b[0m\u001b[0;34m)\u001b[0m\u001b[0;34m.\u001b[0m\u001b[0mtransform\u001b[0m\u001b[0;34m(\u001b[0m\u001b[0mX\u001b[0m\u001b[0;34m,\u001b[0m \u001b[0mconfounds\u001b[0m\u001b[0;34m=\u001b[0m\u001b[0mconfounds\u001b[0m\u001b[0;34m)\u001b[0m\u001b[0;34m\u001b[0m\u001b[0;34m\u001b[0m\u001b[0m\n\u001b[0m\u001b[1;32m    207\u001b[0m         \u001b[0;32melse\u001b[0m\u001b[0;34m:\u001b[0m\u001b[0;34m\u001b[0m\u001b[0;34m\u001b[0m\u001b[0m\n\u001b[1;32m    208\u001b[0m             \u001b[0;31m# fit method of arity 2 (supervised transformation)\u001b[0m\u001b[0;34m\u001b[0m\u001b[0;34m\u001b[0m\u001b[0;34m\u001b[0m\u001b[0m\n",
      "\u001b[0;32m~/.local/lib/python3.7/site-packages/nilearn/input_data/base_masker.py\u001b[0m in \u001b[0;36mtransform\u001b[0;34m(self, imgs, confounds)\u001b[0m\n\u001b[1;32m    174\u001b[0m         \u001b[0mself\u001b[0m\u001b[0;34m.\u001b[0m\u001b[0m_check_fitted\u001b[0m\u001b[0;34m(\u001b[0m\u001b[0;34m)\u001b[0m\u001b[0;34m\u001b[0m\u001b[0;34m\u001b[0m\u001b[0m\n\u001b[1;32m    175\u001b[0m \u001b[0;34m\u001b[0m\u001b[0m\n\u001b[0;32m--> 176\u001b[0;31m         \u001b[0;32mreturn\u001b[0m \u001b[0mself\u001b[0m\u001b[0;34m.\u001b[0m\u001b[0mtransform_single_imgs\u001b[0m\u001b[0;34m(\u001b[0m\u001b[0mimgs\u001b[0m\u001b[0;34m,\u001b[0m \u001b[0mconfounds\u001b[0m\u001b[0;34m)\u001b[0m\u001b[0;34m\u001b[0m\u001b[0;34m\u001b[0m\u001b[0m\n\u001b[0m\u001b[1;32m    177\u001b[0m \u001b[0;34m\u001b[0m\u001b[0m\n\u001b[1;32m    178\u001b[0m     \u001b[0;32mdef\u001b[0m \u001b[0mfit_transform\u001b[0m\u001b[0;34m(\u001b[0m\u001b[0mself\u001b[0m\u001b[0;34m,\u001b[0m \u001b[0mX\u001b[0m\u001b[0;34m,\u001b[0m \u001b[0my\u001b[0m\u001b[0;34m=\u001b[0m\u001b[0;32mNone\u001b[0m\u001b[0;34m,\u001b[0m \u001b[0mconfounds\u001b[0m\u001b[0;34m=\u001b[0m\u001b[0;32mNone\u001b[0m\u001b[0;34m,\u001b[0m \u001b[0;34m**\u001b[0m\u001b[0mfit_params\u001b[0m\u001b[0;34m)\u001b[0m\u001b[0;34m:\u001b[0m\u001b[0;34m\u001b[0m\u001b[0;34m\u001b[0m\u001b[0m\n",
      "\u001b[0;32m~/.local/lib/python3.7/site-packages/nilearn/input_data/nifti_masker.py\u001b[0m in \u001b[0;36mtransform_single_imgs\u001b[0;34m(self, imgs, confounds, copy)\u001b[0m\n\u001b[1;32m    406\u001b[0m             \u001b[0mconfounds\u001b[0m\u001b[0;34m=\u001b[0m\u001b[0mconfounds\u001b[0m\u001b[0;34m,\u001b[0m\u001b[0;34m\u001b[0m\u001b[0;34m\u001b[0m\u001b[0m\n\u001b[1;32m    407\u001b[0m             \u001b[0mcopy\u001b[0m\u001b[0;34m=\u001b[0m\u001b[0mcopy\u001b[0m\u001b[0;34m,\u001b[0m\u001b[0;34m\u001b[0m\u001b[0;34m\u001b[0m\u001b[0m\n\u001b[0;32m--> 408\u001b[0;31m             \u001b[0mdtype\u001b[0m\u001b[0;34m=\u001b[0m\u001b[0mself\u001b[0m\u001b[0;34m.\u001b[0m\u001b[0mdtype\u001b[0m\u001b[0;34m\u001b[0m\u001b[0;34m\u001b[0m\u001b[0m\n\u001b[0m\u001b[1;32m    409\u001b[0m         )\n\u001b[1;32m    410\u001b[0m \u001b[0;34m\u001b[0m\u001b[0m\n",
      "\u001b[0;32m~/.local/lib/python3.7/site-packages/joblib/memory.py\u001b[0m in \u001b[0;36m__call__\u001b[0;34m(self, *args, **kwargs)\u001b[0m\n\u001b[1;32m    350\u001b[0m \u001b[0;34m\u001b[0m\u001b[0m\n\u001b[1;32m    351\u001b[0m     \u001b[0;32mdef\u001b[0m \u001b[0m__call__\u001b[0m\u001b[0;34m(\u001b[0m\u001b[0mself\u001b[0m\u001b[0;34m,\u001b[0m \u001b[0;34m*\u001b[0m\u001b[0margs\u001b[0m\u001b[0;34m,\u001b[0m \u001b[0;34m**\u001b[0m\u001b[0mkwargs\u001b[0m\u001b[0;34m)\u001b[0m\u001b[0;34m:\u001b[0m\u001b[0;34m\u001b[0m\u001b[0;34m\u001b[0m\u001b[0m\n\u001b[0;32m--> 352\u001b[0;31m         \u001b[0;32mreturn\u001b[0m \u001b[0mself\u001b[0m\u001b[0;34m.\u001b[0m\u001b[0mfunc\u001b[0m\u001b[0;34m(\u001b[0m\u001b[0;34m*\u001b[0m\u001b[0margs\u001b[0m\u001b[0;34m,\u001b[0m \u001b[0;34m**\u001b[0m\u001b[0mkwargs\u001b[0m\u001b[0;34m)\u001b[0m\u001b[0;34m\u001b[0m\u001b[0;34m\u001b[0m\u001b[0m\n\u001b[0m\u001b[1;32m    353\u001b[0m \u001b[0;34m\u001b[0m\u001b[0m\n\u001b[1;32m    354\u001b[0m     \u001b[0;32mdef\u001b[0m \u001b[0mcall_and_shelve\u001b[0m\u001b[0;34m(\u001b[0m\u001b[0mself\u001b[0m\u001b[0;34m,\u001b[0m \u001b[0;34m*\u001b[0m\u001b[0margs\u001b[0m\u001b[0;34m,\u001b[0m \u001b[0;34m**\u001b[0m\u001b[0mkwargs\u001b[0m\u001b[0;34m)\u001b[0m\u001b[0;34m:\u001b[0m\u001b[0;34m\u001b[0m\u001b[0;34m\u001b[0m\u001b[0m\n",
      "\u001b[0;32m~/.local/lib/python3.7/site-packages/nilearn/input_data/nifti_masker.py\u001b[0m in \u001b[0;36mfilter_and_mask\u001b[0;34m(imgs, mask_img_, parameters, memory_level, memory, verbose, confounds, copy, dtype)\u001b[0m\n\u001b[1;32m     56\u001b[0m                                       \u001b[0mverbose\u001b[0m\u001b[0;34m=\u001b[0m\u001b[0mverbose\u001b[0m\u001b[0;34m,\u001b[0m\u001b[0;34m\u001b[0m\u001b[0;34m\u001b[0m\u001b[0m\n\u001b[1;32m     57\u001b[0m                                       \u001b[0mconfounds\u001b[0m\u001b[0;34m=\u001b[0m\u001b[0mconfounds\u001b[0m\u001b[0;34m,\u001b[0m \u001b[0mcopy\u001b[0m\u001b[0;34m=\u001b[0m\u001b[0mcopy\u001b[0m\u001b[0;34m,\u001b[0m\u001b[0;34m\u001b[0m\u001b[0;34m\u001b[0m\u001b[0m\n\u001b[0;32m---> 58\u001b[0;31m                                       dtype=dtype)\n\u001b[0m\u001b[1;32m     59\u001b[0m \u001b[0;34m\u001b[0m\u001b[0m\n\u001b[1;32m     60\u001b[0m     \u001b[0;31m# For _later_: missing value removal or imputing of missing data\u001b[0m\u001b[0;34m\u001b[0m\u001b[0;34m\u001b[0m\u001b[0;34m\u001b[0m\u001b[0m\n",
      "\u001b[0;32m~/.local/lib/python3.7/site-packages/nilearn/input_data/base_masker.py\u001b[0m in \u001b[0;36mfilter_and_extract\u001b[0;34m(imgs, extraction_function, parameters, memory_level, memory, verbose, confounds, copy, dtype)\u001b[0m\n\u001b[1;32m     82\u001b[0m                 \u001b[0mtarget_shape\u001b[0m\u001b[0;34m=\u001b[0m\u001b[0mtarget_shape\u001b[0m\u001b[0;34m,\u001b[0m\u001b[0;34m\u001b[0m\u001b[0;34m\u001b[0m\u001b[0m\n\u001b[1;32m     83\u001b[0m                 \u001b[0mtarget_affine\u001b[0m\u001b[0;34m=\u001b[0m\u001b[0mtarget_affine\u001b[0m\u001b[0;34m,\u001b[0m\u001b[0;34m\u001b[0m\u001b[0;34m\u001b[0m\u001b[0m\n\u001b[0;32m---> 84\u001b[0;31m                 copy=copy)\n\u001b[0m\u001b[1;32m     85\u001b[0m \u001b[0;34m\u001b[0m\u001b[0m\n\u001b[1;32m     86\u001b[0m     \u001b[0msmoothing_fwhm\u001b[0m \u001b[0;34m=\u001b[0m \u001b[0mparameters\u001b[0m\u001b[0;34m.\u001b[0m\u001b[0mget\u001b[0m\u001b[0;34m(\u001b[0m\u001b[0;34m'smoothing_fwhm'\u001b[0m\u001b[0;34m)\u001b[0m\u001b[0;34m\u001b[0m\u001b[0;34m\u001b[0m\u001b[0m\n",
      "\u001b[0;32m~/.local/lib/python3.7/site-packages/joblib/memory.py\u001b[0m in \u001b[0;36m__call__\u001b[0;34m(self, *args, **kwargs)\u001b[0m\n\u001b[1;32m    350\u001b[0m \u001b[0;34m\u001b[0m\u001b[0m\n\u001b[1;32m    351\u001b[0m     \u001b[0;32mdef\u001b[0m \u001b[0m__call__\u001b[0m\u001b[0;34m(\u001b[0m\u001b[0mself\u001b[0m\u001b[0;34m,\u001b[0m \u001b[0;34m*\u001b[0m\u001b[0margs\u001b[0m\u001b[0;34m,\u001b[0m \u001b[0;34m**\u001b[0m\u001b[0mkwargs\u001b[0m\u001b[0;34m)\u001b[0m\u001b[0;34m:\u001b[0m\u001b[0;34m\u001b[0m\u001b[0;34m\u001b[0m\u001b[0m\n\u001b[0;32m--> 352\u001b[0;31m         \u001b[0;32mreturn\u001b[0m \u001b[0mself\u001b[0m\u001b[0;34m.\u001b[0m\u001b[0mfunc\u001b[0m\u001b[0;34m(\u001b[0m\u001b[0;34m*\u001b[0m\u001b[0margs\u001b[0m\u001b[0;34m,\u001b[0m \u001b[0;34m**\u001b[0m\u001b[0mkwargs\u001b[0m\u001b[0;34m)\u001b[0m\u001b[0;34m\u001b[0m\u001b[0;34m\u001b[0m\u001b[0m\n\u001b[0m\u001b[1;32m    353\u001b[0m \u001b[0;34m\u001b[0m\u001b[0m\n\u001b[1;32m    354\u001b[0m     \u001b[0;32mdef\u001b[0m \u001b[0mcall_and_shelve\u001b[0m\u001b[0;34m(\u001b[0m\u001b[0mself\u001b[0m\u001b[0;34m,\u001b[0m \u001b[0;34m*\u001b[0m\u001b[0margs\u001b[0m\u001b[0;34m,\u001b[0m \u001b[0;34m**\u001b[0m\u001b[0mkwargs\u001b[0m\u001b[0;34m)\u001b[0m\u001b[0;34m:\u001b[0m\u001b[0;34m\u001b[0m\u001b[0;34m\u001b[0m\u001b[0m\n",
      "\u001b[0;32m~/.local/lib/python3.7/site-packages/nilearn/image/resampling.py\u001b[0m in \u001b[0;36mresample_img\u001b[0;34m(img, target_affine, target_shape, interpolation, copy, order, clip, fill_value, force_resample)\u001b[0m\n\u001b[1;32m    581\u001b[0m                               \u001b[0mout\u001b[0m\u001b[0;34m=\u001b[0m\u001b[0mresampled_data\u001b[0m\u001b[0;34m[\u001b[0m\u001b[0mall_img\u001b[0m \u001b[0;34m+\u001b[0m \u001b[0mind\u001b[0m\u001b[0;34m]\u001b[0m\u001b[0;34m,\u001b[0m\u001b[0;34m\u001b[0m\u001b[0;34m\u001b[0m\u001b[0m\n\u001b[1;32m    582\u001b[0m                               \u001b[0mcopy\u001b[0m\u001b[0;34m=\u001b[0m\u001b[0;32mnot\u001b[0m \u001b[0minput_img_is_string\u001b[0m\u001b[0;34m,\u001b[0m\u001b[0;34m\u001b[0m\u001b[0;34m\u001b[0m\u001b[0m\n\u001b[0;32m--> 583\u001b[0;31m                               fill_value=fill_value)\n\u001b[0m\u001b[1;32m    584\u001b[0m \u001b[0;34m\u001b[0m\u001b[0m\n\u001b[1;32m    585\u001b[0m     \u001b[0;32mif\u001b[0m \u001b[0mclip\u001b[0m\u001b[0;34m:\u001b[0m\u001b[0;34m\u001b[0m\u001b[0;34m\u001b[0m\u001b[0m\n",
      "\u001b[0;32m~/.local/lib/python3.7/site-packages/nilearn/image/resampling.py\u001b[0m in \u001b[0;36m_resample_one_img\u001b[0;34m(data, A, b, target_shape, interpolation_order, out, copy, fill_value)\u001b[0m\n\u001b[1;32m    273\u001b[0m                                  \u001b[0moutput\u001b[0m\u001b[0;34m=\u001b[0m\u001b[0mout\u001b[0m\u001b[0;34m,\u001b[0m\u001b[0;34m\u001b[0m\u001b[0;34m\u001b[0m\u001b[0m\n\u001b[1;32m    274\u001b[0m                                  \u001b[0mcval\u001b[0m\u001b[0;34m=\u001b[0m\u001b[0mfill_value\u001b[0m\u001b[0;34m,\u001b[0m\u001b[0;34m\u001b[0m\u001b[0;34m\u001b[0m\u001b[0m\n\u001b[0;32m--> 275\u001b[0;31m                                  order=interpolation_order)\n\u001b[0m\u001b[1;32m    276\u001b[0m \u001b[0;34m\u001b[0m\u001b[0m\n\u001b[1;32m    277\u001b[0m     \u001b[0;32mif\u001b[0m \u001b[0mhas_not_finite\u001b[0m\u001b[0;34m:\u001b[0m\u001b[0;34m\u001b[0m\u001b[0;34m\u001b[0m\u001b[0m\n",
      "\u001b[0;32m/mnt/chrastil/lab/snlbin/programs/mnt/lib/python3.7/site-packages/scipy/ndimage/interpolation.py\u001b[0m in \u001b[0;36maffine_transform\u001b[0;34m(input, matrix, offset, output_shape, output, order, mode, cval, prefilter)\u001b[0m\n\u001b[1;32m    481\u001b[0m         )\n\u001b[1;32m    482\u001b[0m         _nd_image.zoom_shift(filtered, matrix, offset/matrix, output, order,\n\u001b[0;32m--> 483\u001b[0;31m                              mode, cval)\n\u001b[0m\u001b[1;32m    484\u001b[0m     \u001b[0;32melse\u001b[0m\u001b[0;34m:\u001b[0m\u001b[0;34m\u001b[0m\u001b[0;34m\u001b[0m\u001b[0m\n\u001b[1;32m    485\u001b[0m         _nd_image.geometric_transform(filtered, None, None, matrix, offset,\n",
      "\u001b[0;31mKeyboardInterrupt\u001b[0m: "
     ]
    }
   ],
   "source": [
    "import os\n",
    "import glob\n",
    "import numpy as np\n",
    "import pandas as pd\n",
    "import matplotlib.pyplot as plt\n",
    "import seaborn as sns\n",
    "import random\n",
    "from nltools.data import Brain_Data\n",
    "from nltools.mask import expand_mask\n",
    "from bids import BIDSLayout, BIDSValidator\n",
    "from sklearn.pipeline import make_pipeline\n",
    "from sklearn.preprocessing import MinMaxScaler\n",
    "from sklearn.model_selection import KFold, LeaveOneOut, GridSearchCV, cross_val_score\n",
    "from sklearn.svm import SVC\n",
    "from sklearn.model_selection import permutation_test_score\n",
    "\n",
    "data_dir = '/mnt/chrastil/lab/users/lily/path_direction/localizer_beta_series_all_run_exploration'\n",
    "sub_num = 'sub-033'\n",
    "folder = 'func'\n",
    "\n",
    "E_file_list = glob.glob(os.path.join(data_dir, 'derivatives', 'nibetaseries',sub_num,folder,'*Ex*_desc-E*.nii.gz'))\n",
    "E = Brain_Data(E_file_list)\n",
    "\n",
    "N_file_list = glob.glob(os.path.join(data_dir,  'derivatives', 'nibetaseries',sub_num,folder,'*Ex*_desc-N*.nii.gz'))\n",
    "N = Brain_Data(N_file_list)\n",
    "\n",
    "W_file_list = glob.glob(os.path.join(data_dir, 'derivatives', 'nibetaseries',sub_num,folder,'*Ex*_desc-W*.nii.gz'))\n",
    "W = Brain_Data(W_file_list)\n",
    "\n",
    "S_file_list = glob.glob(os.path.join(data_dir, 'derivatives', 'nibetaseries',sub_num,folder,'*Ex*_desc-S*.nii.gz'))\n",
    "S = Brain_Data(S_file_list)\n",
    "                                     \n",
    "data = E.append(N)\n",
    "data = data.append(W)\n",
    "data = data.append(S)\n",
    "Y = pd.DataFrame(np.hstack([np.zeros(len(E.data)), np.ones(len(N.data)),2*np.ones(len(W.data)), 3*np.ones(len(S.data))]))\n",
    "data.Y = Y                                     "
   ]
  },
  {
   "cell_type": "markdown",
   "metadata": {},
   "source": [
    "# roi - thalamus"
   ]
  },
  {
   "cell_type": "code",
   "execution_count": null,
   "metadata": {},
   "outputs": [],
   "source": [
    "atlas_mni_file = os.path.join(data_dir,\n",
    "                              \"derivatives\",\n",
    "                              \"data\",\n",
    "                              \"HarvardOxford-sub-maxprob-thr25-1mm.nii.gz\")\n",
    "\n",
    "\n",
    "mask = Brain_Data(atlas_mni_file)\n",
    "mask_x = expand_mask(mask)\n",
    "\n",
    "# f = mask.plot()\n",
    "\n",
    "# index - 1 for all because this is python!!!\n",
    "tha = mask_x[[4-1,15-1]].sum() # thalamus\n",
    "\n",
    "data_masked = data.apply_mask(tha)\n",
    "\n",
    "X = data_masked.data\n",
    "Y = data_masked.Y.values.ravel()\n",
    "\n",
    "kfold = KFold(n_splits = 10, shuffle = True, random_state = 0)\n",
    "param_grid = {'C':[0.001,0.01,0.1,1,10,100], 'gamma':[0.001,0.01,0.1,1,10,100] }\n",
    "\n",
    "X_std = MinMaxScaler().fit_transform(X)\n",
    "svc = SVC(kernel = \"rbf\")\n",
    "cv_scores = cross_val_score(GridSearchCV(svc, param_grid, cv = kfold, n_jobs = -1), X_std, Y, cv= loo, n_jobs = -1)\n",
    "\n",
    "\n",
    "classification_accuracy = cv_scores.mean()\n",
    "print(\"Accuracy of thalamus:{:.3f}\".format(classification_accuracy))"
   ]
  },
  {
   "cell_type": "code",
   "execution_count": null,
   "metadata": {},
   "outputs": [],
   "source": [
    "Z = Y.copy()\n",
    "random.shuffle(Z)\n",
    "cv_scores2 = cross_val_score(GridSearchCV(svc, param_grid, cv = kfold, n_jobs = -1), X_std, Z, cv= loo, n_jobs = -1)\n",
    "\n",
    "\n",
    "classification_accuracy2 = cv_scores2.mean()\n",
    "print(\"Accuracy of thalamus random:{:.3f}\".format(classification_accuracy2))"
   ]
  },
  {
   "cell_type": "markdown",
   "metadata": {},
   "source": [
    "# Cortical ROIs: Retrosplenial, Precuneus, Extrastriate Cortex, Early Visual Cortex, Auditory Cortex                                "
   ]
  },
  {
   "cell_type": "code",
   "execution_count": null,
   "metadata": {},
   "outputs": [],
   "source": [
    "atlas_mni_file = os.path.join(data_dir,\n",
    "                              \"derivatives\",\n",
    "                              \"data\",\n",
    "                              \"Schaefer2018_100Parcels_17Networks_order_FSLMNI152_1mm.nii.gz\")\n",
    "mask = Brain_Data(atlas_mni_file)\n",
    "mask_x = expand_mask(mask)\n",
    "\n",
    "# f = mask.plot()"
   ]
  },
  {
   "cell_type": "code",
   "execution_count": null,
   "metadata": {},
   "outputs": [],
   "source": [
    "# # index - 1 for all because this is python!!!\n",
    "rsc = mask_x[[48-1,96-1]].sum() # retrosplenial cortex\n",
    "\n",
    "data_masked = data.apply_mask(rsc)\n",
    "\n",
    "X = data_masked.data\n",
    "Y = data_masked.Y.values.ravel()\n",
    "\n",
    "kfold = KFold(n_splits = 10, shuffle = True, random_state = 0)\n",
    "param_grid = {'C':[0.001,0.01,0.1,1,10,100], 'gamma':[0.001,0.01,0.1,1,10,100] }\n",
    "\n",
    "X_std = MinMaxScaler().fit_transform(X)\n",
    "svc = gridSVC(kernel = \"rbf\")\n",
    "cv_scores = cross_val_score(GridSearchCV(svc, param_grid, cv = kfold, n_jobs = -1), X_std, Y, cv= loo, n_jobs = -1)\n",
    "\n",
    "\n",
    "classification_accuracy = cv_scores.mean()\n",
    "print(\"Accuracy of retrosplenial cortex:{:.3f}\".format(classification_accuracy))\n",
    "\n",
    "Z = Y.copy()\n",
    "random.shuffle(Z)\n",
    "cv_scores2 = cross_val_score(GridSearchCV(svc, param_grid, cv = kfold, n_jobs = -1), X_std, Z, cv= loo, n_jobs = -1)\n",
    "\n",
    "\n",
    "classification_accuracy2 = cv_scores2.mean()\n",
    "print(\"Accuracy of retrosplenial cortex random:{:.3f}\".format(classification_accuracy))"
   ]
  },
  {
   "cell_type": "code",
   "execution_count": null,
   "metadata": {},
   "outputs": [],
   "source": [
    "# # index - 1 for all because this is python!!!\n",
    "pcun = mask_x[[35-1,36-1]].sum() # precuneus\n",
    "\n",
    "data_masked = data.apply_mask(pcun)\n",
    "\n",
    "X = data_masked.data\n",
    "Y = data_masked.Y.values.ravel()\n",
    "\n",
    "kfold = KFold(n_splits = 10, shuffle = True, random_state = 0)\n",
    "param_grid = {'C':[0.001,0.01,0.1,1,10,100], 'gamma':[0.001,0.01,0.1,1,10,100] }\n",
    "\n",
    "X_std = MinMaxScaler().fit_transform(X)\n",
    "svc = gridSVC(kernel = \"rbf\")\n",
    "cv_scores = cross_val_score(GridSearchCV(svc, param_grid, cv = kfold, n_jobs = -1), X_std, Y, cv= loo, n_jobs = -1)\n",
    "\n",
    "\n",
    "classification_accuracy = cv_scores.mean()\n",
    "print(\"Accuracy of precuneus:{:.3f}\".format(classification_accuracy))\n",
    "\n",
    "Z = Y.copy()\n",
    "random.shuffle(Z)\n",
    "cv_scores2 = cross_val_score(GridSearchCV(svc, param_grid, cv = kfold, n_jobs = -1), X_std, Z, cv= loo, n_jobs = -1)\n",
    "\n",
    "\n",
    "classification_accuracy2 = cv_scores2.mean()\n",
    "print(\"Accuracy of precuneus random:{:.3f}\".format(classification_accuracy))"
   ]
  },
  {
   "cell_type": "code",
   "execution_count": null,
   "metadata": {},
   "outputs": [],
   "source": [
    "# # index - 1 for all because this is python!!!\n",
    "\n",
    "ext = mask_x[[1-1,2-1,4-1,51-1,52-1,53-1]].sum() # extrastriate cortex\n",
    "\n",
    "data_masked = data.apply_mask(ext)\n",
    "\n",
    "X = data_masked.data\n",
    "Y = data_masked.Y.values.ravel()\n",
    "\n",
    "kfold = KFold(n_splits = 10, shuffle = True, random_state = 0)\n",
    "param_grid = {'C':[0.001,0.01,0.1,1,10,100], 'gamma':[0.001,0.01,0.1,1,10,100] }\n",
    "\n",
    "X_std = MinMaxScaler().fit_transform(X)\n",
    "svc = gridSVC(kernel = \"rbf\")\n",
    "cv_scores = cross_val_score(GridSearchCV(svc, param_grid, cv = kfold, n_jobs = -1), X_std, Y, cv= loo, n_jobs = -1)\n",
    "\n",
    "\n",
    "classification_accuracy = cv_scores.mean()\n",
    "print(\"Accuracy of extrastriate cortex:{:.3f}\".format(classification_accuracy))\n",
    "\n",
    "Z = Y.copy()\n",
    "random.shuffle(Z)\n",
    "cv_scores2 = cross_val_score(GridSearchCV(svc, param_grid, cv = kfold, n_jobs = -1), X_std, Z, cv= loo, n_jobs = -1)\n",
    "\n",
    "\n",
    "classification_accuracy2 = cv_scores2.mean()\n",
    "print(\"Accuracy of extrastriate cortex random:{:.3f}\".format(classification_accuracy))"
   ]
  },
  {
   "cell_type": "code",
   "execution_count": null,
   "metadata": {},
   "outputs": [],
   "source": [
    "# striate 3, strical LH 6 & RH 54\n",
    "evc = mask_x[[3-1,6-1,54-1]].sum() # striate cortex + peri strical\n",
    "data_masked = data.apply_mask(evc)\n",
    "\n",
    "X = data_masked.data\n",
    "Y = data_masked.Y.values.ravel()\n",
    "\n",
    "kfold = KFold(n_splits = 10, shuffle = True, random_state = 0)\n",
    "param_grid = {'C':[0.001,0.01,0.1,1,10,100], 'gamma':[0.001,0.01,0.1,1,10,100] }\n",
    "\n",
    "X_std = MinMaxScaler().fit_transform(X)\n",
    "svc = gridSVC(kernel = \"rbf\")\n",
    "cv_scores = cross_val_score(GridSearchCV(svc, param_grid, cv = kfold, n_jobs = -1), X_std, Y, cv= loo, n_jobs = -1)\n",
    "\n",
    "\n",
    "classification_accuracy = cv_scores.mean()\n",
    "print(\"Accuracy of early visual cortex:{:.3f}\".format(classification_accuracy))\n",
    "\n",
    "Z = Y.copy()\n",
    "random.shuffle(Z)\n",
    "cv_scores2 = cross_val_score(GridSearchCV(svc, param_grid, cv = kfold, n_jobs = -1), X_std, Z, cv= loo, n_jobs = -1)\n",
    "\n",
    "\n",
    "classification_accuracy2 = cv_scores2.mean()\n",
    "print(\"Accuracy of early visual cortex random:{:.3f}\".format(classification_accuracy))"
   ]
  },
  {
   "cell_type": "code",
   "execution_count": null,
   "metadata": {},
   "outputs": [],
   "source": [
    "# auditory cortex 10, 61\n",
    "aud = mask_x[[10-1,61-1]].sum() # striate cortex + peri strical\n",
    "data_masked = data.apply_mask(aud)\n",
    "\n",
    "X = data_masked.data\n",
    "Y = data_masked.Y.values.ravel()\n",
    "\n",
    "kfold = KFold(n_splits = 10, shuffle = True, random_state = 0)\n",
    "param_grid = {'C':[0.001,0.01,0.1,1,10,100], 'gamma':[0.001,0.01,0.1,1,10,100] }\n",
    "\n",
    "X_std = MinMaxScaler().fit_transform(X)\n",
    "svc = gridSVC(kernel = \"rbf\")\n",
    "cv_scores = cross_val_score(GridSearchCV(svc, param_grid, cv = kfold, n_jobs = -1), X_std, Y, cv= loo, n_jobs = -1)\n",
    "\n",
    "\n",
    "classification_accuracy = cv_scores.mean()\n",
    "print(\"Accuracy of auditory cortex:{:.3f}\".format(classification_accuracy))\n",
    "\n",
    "Z = Y.copy()\n",
    "random.shuffle(Z)\n",
    "cv_scores2 = cross_val_score(GridSearchCV(svc, param_grid, cv = kfold, n_jobs = -1), X_std, Z, cv= loo, n_jobs = -1)\n",
    "\n",
    "\n",
    "classification_accuracy2 = cv_scores2.mean()\n",
    "print(\"Accuracy of auditory cortex random:{:.3f}\".format(classification_accuracy))"
   ]
  }
 ],
 "metadata": {
  "kernelspec": {
   "display_name": "Python 3",
   "language": "python",
   "name": "python3"
  },
  "language_info": {
   "codemirror_mode": {
    "name": "ipython",
    "version": 3
   },
   "file_extension": ".py",
   "mimetype": "text/x-python",
   "name": "python",
   "nbconvert_exporter": "python",
   "pygments_lexer": "ipython3",
   "version": "3.7.7"
  }
 },
 "nbformat": 4,
 "nbformat_minor": 4
}
