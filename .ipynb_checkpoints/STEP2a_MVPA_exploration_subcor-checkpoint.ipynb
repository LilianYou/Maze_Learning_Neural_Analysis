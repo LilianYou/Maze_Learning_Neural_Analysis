{
 "cells": [
  {
   "cell_type": "code",
   "execution_count": 1,
   "metadata": {},
   "outputs": [
    {
     "name": "stderr",
     "output_type": "stream",
     "text": [
      "/mnt/chrastil/lab/snlbin/programs/mnt/lib/python3.7/site-packages/sklearn/utils/deprecation.py:144: FutureWarning: The sklearn.linear_model.base module is  deprecated in version 0.22 and will be removed in version 0.24. The corresponding classes / functions should instead be imported from sklearn.linear_model. Anything that cannot be imported from sklearn.linear_model is now part of the private API.\n",
      "  warnings.warn(message, FutureWarning)\n"
     ]
    }
   ],
   "source": [
    "%matplotlib inline\n",
    "\n",
    "import os\n",
    "import glob\n",
    "import numpy as np\n",
    "import pandas as pd\n",
    "import matplotlib.pyplot as plt\n",
    "import seaborn as sns\n",
    "from nltools.data import Brain_Data\n",
    "from nltools.mask import expand_mask\n",
    "from bids import BIDSLayout, BIDSValidator\n",
    "\n",
    "#data_dir = '/mnt/chrastil/lab/users/lily/localizer_beta_series_run_trials_only'\n",
    "#data_dir = '/mnt/chrastil/lab/users/lily/localizer_beta_series_all_run_exploration'\n",
    "#data_dir = '/mnt/chrastil/lab/users/lily/localizer_beta_series_all_exploration'\n",
    "#data_dir = '/mnt/chrastil/lab/users/lily/path_direction/localizer_beta_series_run_trials_only'\n",
    "data_dir = '/mnt/chrastil/lab/users/lily/path_direction/localizer_beta_series_all_exploration'\n",
    "# data_dir = '/mnt/chrastil/lab/users/lily/path_direction/localizer_beta_series_all_run_exploration'\n",
    "\n",
    "layout = BIDSLayout(data_dir, derivatives=True)"
   ]
  },
  {
   "cell_type": "code",
   "execution_count": 2,
   "metadata": {},
   "outputs": [],
   "source": [
    "from nltools.utils import get_resource_path\n",
    "from nltools.file_reader import onsets_to_dm\n",
    "from nltools.data import Design_Matrix\n",
    "import os"
   ]
  },
  {
   "cell_type": "code",
   "execution_count": 3,
   "metadata": {},
   "outputs": [],
   "source": [
    "sub_num = 'sub-041'"
   ]
  },
  {
   "cell_type": "markdown",
   "metadata": {},
   "source": [
    "## All trials"
   ]
  },
  {
   "cell_type": "code",
   "execution_count": 4,
   "metadata": {},
   "outputs": [
    {
     "ename": "IndexError",
     "evalue": "list index out of range",
     "output_type": "error",
     "traceback": [
      "\u001b[0;31m---------------------------------------------------------------------------\u001b[0m",
      "\u001b[0;31mIndexError\u001b[0m                                Traceback (most recent call last)",
      "\u001b[0;32m<ipython-input-4-cb517ecba274>\u001b[0m in \u001b[0;36m<module>\u001b[0;34m\u001b[0m\n\u001b[1;32m      1\u001b[0m \u001b[0mE_file_list\u001b[0m \u001b[0;34m=\u001b[0m \u001b[0mglob\u001b[0m\u001b[0;34m.\u001b[0m\u001b[0mglob\u001b[0m\u001b[0;34m(\u001b[0m\u001b[0mos\u001b[0m\u001b[0;34m.\u001b[0m\u001b[0mpath\u001b[0m\u001b[0;34m.\u001b[0m\u001b[0mjoin\u001b[0m\u001b[0;34m(\u001b[0m\u001b[0mdata_dir\u001b[0m\u001b[0;34m,\u001b[0m \u001b[0;34m'derivatives'\u001b[0m\u001b[0;34m,\u001b[0m \u001b[0;34m'nibetaseries'\u001b[0m\u001b[0;34m,\u001b[0m\u001b[0msub_num\u001b[0m\u001b[0;34m,\u001b[0m\u001b[0;34m'func'\u001b[0m\u001b[0;34m,\u001b[0m\u001b[0;34m'*Ex*_desc-E*.nii.gz'\u001b[0m\u001b[0;34m)\u001b[0m\u001b[0;34m)\u001b[0m\u001b[0;34m\u001b[0m\u001b[0;34m\u001b[0m\u001b[0m\n\u001b[1;32m      2\u001b[0m \u001b[0mE_file_list\u001b[0m\u001b[0;34m.\u001b[0m\u001b[0msort\u001b[0m\u001b[0;34m(\u001b[0m\u001b[0;34m)\u001b[0m\u001b[0;34m\u001b[0m\u001b[0;34m\u001b[0m\u001b[0m\n\u001b[0;32m----> 3\u001b[0;31m \u001b[0mE\u001b[0m \u001b[0;34m=\u001b[0m \u001b[0mBrain_Data\u001b[0m\u001b[0;34m(\u001b[0m\u001b[0mE_file_list\u001b[0m\u001b[0;34m)\u001b[0m\u001b[0;34m\u001b[0m\u001b[0;34m\u001b[0m\u001b[0m\n\u001b[0m\u001b[1;32m      4\u001b[0m \u001b[0;34m\u001b[0m\u001b[0m\n\u001b[1;32m      5\u001b[0m \u001b[0mN_file_list\u001b[0m \u001b[0;34m=\u001b[0m \u001b[0mglob\u001b[0m\u001b[0;34m.\u001b[0m\u001b[0mglob\u001b[0m\u001b[0;34m(\u001b[0m\u001b[0mos\u001b[0m\u001b[0;34m.\u001b[0m\u001b[0mpath\u001b[0m\u001b[0;34m.\u001b[0m\u001b[0mjoin\u001b[0m\u001b[0;34m(\u001b[0m\u001b[0mdata_dir\u001b[0m\u001b[0;34m,\u001b[0m  \u001b[0;34m'derivatives'\u001b[0m\u001b[0;34m,\u001b[0m \u001b[0;34m'nibetaseries'\u001b[0m\u001b[0;34m,\u001b[0m\u001b[0msub_num\u001b[0m\u001b[0;34m,\u001b[0m\u001b[0;34m'func'\u001b[0m\u001b[0;34m,\u001b[0m\u001b[0;34m'*Ex*_desc-N*.nii.gz'\u001b[0m\u001b[0;34m)\u001b[0m\u001b[0;34m)\u001b[0m\u001b[0;34m\u001b[0m\u001b[0;34m\u001b[0m\u001b[0m\n",
      "\u001b[0;32m/mnt/chrastil/lab/snlbin/programs/mnt/lib/python3.7/site-packages/nltools/data/brain_data.py\u001b[0m in \u001b[0;36m__init__\u001b[0;34m(self, data, Y, X, mask, output_file, **kwargs)\u001b[0m\n\u001b[1;32m    135\u001b[0m                 \u001b[0mself\u001b[0m\u001b[0;34m.\u001b[0m\u001b[0mdata\u001b[0m \u001b[0;34m=\u001b[0m \u001b[0mself\u001b[0m\u001b[0;34m.\u001b[0m\u001b[0mnifti_masker\u001b[0m\u001b[0;34m.\u001b[0m\u001b[0mfit_transform\u001b[0m\u001b[0;34m(\u001b[0m\u001b[0mdata\u001b[0m\u001b[0;34m)\u001b[0m\u001b[0;34m\u001b[0m\u001b[0;34m\u001b[0m\u001b[0m\n\u001b[1;32m    136\u001b[0m             \u001b[0;32melif\u001b[0m \u001b[0misinstance\u001b[0m\u001b[0;34m(\u001b[0m\u001b[0mdata\u001b[0m\u001b[0;34m,\u001b[0m \u001b[0mlist\u001b[0m\u001b[0;34m)\u001b[0m\u001b[0;34m:\u001b[0m\u001b[0;34m\u001b[0m\u001b[0;34m\u001b[0m\u001b[0m\n\u001b[0;32m--> 137\u001b[0;31m                 \u001b[0;32mif\u001b[0m \u001b[0misinstance\u001b[0m\u001b[0;34m(\u001b[0m\u001b[0mdata\u001b[0m\u001b[0;34m[\u001b[0m\u001b[0;36m0\u001b[0m\u001b[0;34m]\u001b[0m\u001b[0;34m,\u001b[0m \u001b[0mBrain_Data\u001b[0m\u001b[0;34m)\u001b[0m\u001b[0;34m:\u001b[0m\u001b[0;34m\u001b[0m\u001b[0;34m\u001b[0m\u001b[0m\n\u001b[0m\u001b[1;32m    138\u001b[0m                     \u001b[0mtmp\u001b[0m \u001b[0;34m=\u001b[0m \u001b[0mconcatenate\u001b[0m\u001b[0;34m(\u001b[0m\u001b[0mdata\u001b[0m\u001b[0;34m)\u001b[0m\u001b[0;34m\u001b[0m\u001b[0;34m\u001b[0m\u001b[0m\n\u001b[1;32m    139\u001b[0m                     for item in ['data', 'Y', 'X', 'mask', 'nifti_masker',\n",
      "\u001b[0;31mIndexError\u001b[0m: list index out of range"
     ]
    }
   ],
   "source": [
    "E_file_list = glob.glob(os.path.join(data_dir, 'derivatives', 'nibetaseries',sub_num,'func','*Ex*_desc-E*.nii.gz'))\n",
    "E_file_list.sort() \n",
    "E = Brain_Data(E_file_list)\n",
    "\n",
    "N_file_list = glob.glob(os.path.join(data_dir,  'derivatives', 'nibetaseries',sub_num,'func','*Ex*_desc-N*.nii.gz'))\n",
    "N_file_list.sort()\n",
    "N = Brain_Data(N_file_list)\n",
    "\n",
    "W_file_list = glob.glob(os.path.join(data_dir, 'derivatives', 'nibetaseries',sub_num,'func','*Ex*_desc-W*.nii.gz'))\n",
    "W_file_list.sort() \n",
    "W = Brain_Data(W_file_list)\n",
    "\n",
    "S_file_list = glob.glob(os.path.join(data_dir, 'derivatives', 'nibetaseries',sub_num,'func','*Ex*_desc-S*.nii.gz'))\n",
    "S_file_list.sort() \n",
    "S = Brain_Data(S_file_list)"
   ]
  },
  {
   "cell_type": "code",
   "execution_count": null,
   "metadata": {},
   "outputs": [],
   "source": [
    "data = E.append(N)\n",
    "data = data.append(W)\n",
    "data = data.append(S)"
   ]
  },
  {
   "cell_type": "code",
   "execution_count": null,
   "metadata": {},
   "outputs": [],
   "source": [
    "print(len(E.data))\n",
    "print(len(N.data))\n",
    "print(len(W.data))\n",
    "print(len(S.data))"
   ]
  },
  {
   "cell_type": "code",
   "execution_count": null,
   "metadata": {},
   "outputs": [],
   "source": [
    "#Y = pd.DataFrame(np.hstack([np.zeros(157), np.ones(119),2*np.ones(122), 3*np.ones(97)]))\n",
    "Y = pd.DataFrame(np.hstack([np.zeros(len(E.data)), np.ones(len(N.data)),2*np.ones(len(W.data)), 3*np.ones(len(S.data))]))\n",
    "\n",
    "#Y = pd.DataFrame(np.hstack([np.zeros(42), np.ones(44)]))\n",
    "\n",
    "data.Y = Y"
   ]
  },
  {
   "cell_type": "code",
   "execution_count": null,
   "metadata": {},
   "outputs": [],
   "source": [
    "data.shape\n"
   ]
  },
  {
   "cell_type": "markdown",
   "metadata": {},
   "source": [
    "# Feature Selection - Whole Brain Analysis"
   ]
  },
  {
   "cell_type": "code",
   "execution_count": null,
   "metadata": {},
   "outputs": [],
   "source": [
    "# ------------------\n",
    "# Define the prediction function to be used.\n",
    "# Here we use a Support Vector Classification, with a linear kernel\n",
    "from sklearn.svm import SVC\n",
    "svc = SVC(kernel='linear')\n",
    "\n",
    "# Define the dimension reduction to be used.\n",
    "# Here we use a classical univariate feature selection based on F-test,\n",
    "# namely Anova. When doing full-brain analysis, it is better to use\n",
    "# SelectPercentile, keeping 5% of voxels\n",
    "# (because it is independent of the resolution of the data).\n",
    "from sklearn.feature_selection import SelectPercentile, f_classif\n",
    "feature_selection = SelectPercentile(f_classif, percentile=5)\n",
    "\n",
    "# We have our classifier (SVC), our feature selection (SelectPercentile),and now,\n",
    "# we can plug them together in a *pipeline* that performs the two operations\n",
    "# successively:\n",
    "from sklearn.pipeline import Pipeline\n",
    "anova_svc = Pipeline([('anova', feature_selection), ('svc', svc)])"
   ]
  },
  {
   "cell_type": "code",
   "execution_count": null,
   "metadata": {},
   "outputs": [],
   "source": [
    "#############################################################################\n",
    "# Fit the decoder and predict\n",
    "# ----------------------------\n",
    "anova_svc.fit(data.data, data.Y.values.ravel())\n",
    "y_pred = anova_svc.predict(data.data)"
   ]
  },
  {
   "cell_type": "code",
   "execution_count": null,
   "metadata": {},
   "outputs": [],
   "source": [
    "#############################################################################\n",
    "# Obtain prediction scores via cross validation\n",
    "# -----------------------------------------------\n",
    "from sklearn.model_selection import LeaveOneGroupOut, cross_val_score\n",
    "\n",
    "# Define the cross-validation scheme used for validation.\n",
    "# Here we use a LeaveOneGroupOut cross-validation on the session group\n",
    "# which corresponds to a leave-one-session-out\n",
    "#cv = LeaveOneGroupOut()\n",
    "\n",
    "\n",
    "# Compute the prediction accuracy for the different folds (i.e. session)\n",
    "#cv_scores = cross_val_score(anova_svc, data.data, data.Y, cv=cv, groups=4)\n",
    "cv_scores = cross_val_score(anova_svc, data.data, data.Y.values.ravel(), cv=5)\n",
    "\n",
    "# Return the corresponding mean prediction accuracy\n",
    "classification_accuracy = cv_scores.mean()\n",
    "\n",
    "# Print the results\n",
    "print(\"Classification accuracy: %.4f / Chance level: %f\" %\n",
    "      (classification_accuracy, 1. / len(data.Y[0].unique())))\n",
    "# Classification accuracy:  0.70370 / Chance level: 0.5000\n",
    "\n",
    "\n",
    "#############################################################################"
   ]
  },
  {
   "cell_type": "markdown",
   "metadata": {},
   "source": [
    "# roi - thalamus"
   ]
  },
  {
   "cell_type": "code",
   "execution_count": null,
   "metadata": {},
   "outputs": [],
   "source": [
    "atlas_mni_file = os.path.join(data_dir,\n",
    "                              \"derivatives\",\n",
    "                              \"data\",\n",
    "                              \"HarvardOxford-sub-maxprob-thr25-1mm.nii.gz\")"
   ]
  },
  {
   "cell_type": "code",
   "execution_count": null,
   "metadata": {},
   "outputs": [],
   "source": [
    "mask = Brain_Data(atlas_mni_file)\n",
    "mask_x = expand_mask(mask)\n",
    "\n",
    "f = mask.plot()"
   ]
  },
  {
   "cell_type": "code",
   "execution_count": null,
   "metadata": {},
   "outputs": [],
   "source": [
    "# index - 1 for all because this is python!!!\n",
    "tha = mask_x[[4-1,15-1]].sum() # thalamus\n",
    "\n",
    "data_masked = data.apply_mask(tha)\n"
   ]
  },
  {
   "cell_type": "code",
   "execution_count": null,
   "metadata": {},
   "outputs": [],
   "source": [
    "anova_svc = Pipeline([('anova', feature_selection), ('svc', svc)])\n",
    "anova_svc.fit(data_masked.data, data_masked.Y.values.ravel())\n",
    "y_pred = anova_svc.predict(data_masked.data)"
   ]
  },
  {
   "cell_type": "code",
   "execution_count": null,
   "metadata": {},
   "outputs": [],
   "source": [
    "cv_scores = cross_val_score(anova_svc, data_masked.data, data_masked.Y.values.ravel(), cv=5)\n",
    "\n",
    "# Return the corresponding mean prediction accuracy\n",
    "classification_accuracy = cv_scores.mean()\n",
    "\n",
    "# Print the results\n",
    "print(\"Classification accuracy: %.4f / Chandata_maskedce level: %f\" %\n",
    "      (classification_accuracy, 1. / len(data.Y[0].unique())))"
   ]
  },
  {
   "cell_type": "markdown",
   "metadata": {},
   "source": [
    "# New Algorithm"
   ]
  },
  {
   "cell_type": "code",
   "execution_count": null,
   "metadata": {},
   "outputs": [],
   "source": [
    "from sklearn.pipeline import make_pipeline\n",
    "from sklearn.preprocessing import MinMaxScaler\n",
    "from sklearn.model_selection import KFold, LeaveOneOut, GridSearchCV"
   ]
  },
  {
   "cell_type": "code",
   "execution_count": null,
   "metadata": {},
   "outputs": [],
   "source": [
    "X = data_masked.data\n",
    "Y = data_masked.Y.values.ravel()"
   ]
  },
  {
   "cell_type": "code",
   "execution_count": null,
   "metadata": {},
   "outputs": [],
   "source": [
    "loo = LeaveOneOut()\n",
    "X_std = MinMaxScaler().fit_transform(X)\n",
    "svc = SVC(kernel = \"rbf\",C = 0.001, gamma = 0.001)\n",
    "\n",
    "cv_scores = cross_val_score(svc, X_std, Y, cv= loo, n_jobs = -1)\n",
    "\n",
    "classification_accuracy = cv_scores.mean()\n",
    "print(classification_accuracy)"
   ]
  },
  {
   "cell_type": "markdown",
   "metadata": {},
   "source": [
    "# Permutation"
   ]
  },
  {
   "cell_type": "code",
   "execution_count": null,
   "metadata": {},
   "outputs": [],
   "source": [
    "from sklearn.model_selection import permutation_test_score\n"
   ]
  },
  {
   "cell_type": "code",
   "execution_count": null,
   "metadata": {},
   "outputs": [],
   "source": [
    "# null_cv_scores = permutation_test_score(\n",
    "#     svc, fmri_masked, conditions, cv=cv, groups=session_label)[1]\n",
    "\n",
    "anova_svc = Pipeline([('anova', feature_selection), ('svc', SVC(kernel = \"linear\"))])\n",
    "\n",
    "null_cv_scores, value2, value3 = permutation_test_score(\n",
    "    anova_svc, X, Y, scoring=\"accuracy\", cv=loo,  n_jobs = -1)\n",
    "\n"
   ]
  },
  {
   "cell_type": "code",
   "execution_count": null,
   "metadata": {},
   "outputs": [],
   "source": [
    "# print(\"Permutation test score: {:.3f}\".format(null_cv_scores))\n",
    "print(null_cv_scores)\n",
    "print(value2)\n",
    "print(value3)"
   ]
  },
  {
   "cell_type": "code",
   "execution_count": null,
   "metadata": {},
   "outputs": [],
   "source": [
    "value2.mean()"
   ]
  },
  {
   "cell_type": "code",
   "execution_count": null,
   "metadata": {},
   "outputs": [],
   "source": [
    "import matplotlib.pyplot as plt\n",
    "\n",
    "fig, ax = plt.subplots()\n",
    "\n",
    "ax.hist(value2, bins=20, density=True)\n",
    "ax.axvline(null_cv_scores, ls='--', color='r')\n",
    "score_label = (f\"Score on original\\ndata: {null_cv_scores:.2f}\\n\"\n",
    "               f\"(p-value: {value3:.3f})\")\n",
    "ax.text(0.7, 260, score_label, fontsize=12)\n",
    "ax.set_xlabel(\"Accuracy score\")\n",
    "_ = ax.set_ylabel(\"Probability\")"
   ]
  },
  {
   "cell_type": "markdown",
   "metadata": {},
   "source": [
    "# Dummy"
   ]
  },
  {
   "cell_type": "code",
   "execution_count": null,
   "metadata": {},
   "outputs": [],
   "source": [
    "from sklearn.dummy import DummyClassifier"
   ]
  },
  {
   "cell_type": "code",
   "execution_count": null,
   "metadata": {},
   "outputs": [],
   "source": [
    "dummy = []\n",
    "\n",
    "for i in range(100):\n",
    "    dummy[i] null_cv_scores = cross_val_score(\n",
    "     DummyClassifier(), X_std, Y, scoring=\"accuracy\", cv=loo, n_jobs = -1)\n",
    "\n"
   ]
  },
  {
   "cell_type": "code",
   "execution_count": null,
   "metadata": {},
   "outputs": [],
   "source": [
    "print(len(null_cv_scores))"
   ]
  },
  {
   "cell_type": "code",
   "execution_count": null,
   "metadata": {},
   "outputs": [],
   "source": [
    "# from sklearn.linear_model import Ridge\n",
    "# from sklearn.feature_selection import RFE\n",
    "\n",
    "# param_grid = {'C':[0.001,0.01,0.1,1,10,100], 'gamma':[0.001,0.01,0.1,1,10,100] }\n",
    "# kfold = KFold(n_splits = 5, shuffle = True, random_state = 0)\n",
    "# cv_scores = cross_val_score(GridSearchCV(SVC(), param_grid, cv = kfold, n_jobs = -1), X_std, Y, cv= loo, n_jobs = -1)"
   ]
  },
  {
   "cell_type": "markdown",
   "metadata": {},
   "source": [
    "# ROI - Retrosplenial"
   ]
  },
  {
   "cell_type": "code",
   "execution_count": null,
   "metadata": {},
   "outputs": [],
   "source": [
    "# atlas_mni_file = os.path.join(data_dir,\n",
    "#                               \"derivatives\",\n",
    "#                               \"data\",\n",
    "#                               \"Schaefer2018_100Parcels_17Networks_order_FSLMNI152_1mm.nii.gz\")"
   ]
  },
  {
   "cell_type": "code",
   "execution_count": null,
   "metadata": {},
   "outputs": [],
   "source": [
    "# mask = Brain_Data(atlas_mni_file)\n",
    "# mask_x = expand_mask(mask)\n",
    "\n",
    "# f = mask.plot()"
   ]
  },
  {
   "cell_type": "code",
   "execution_count": null,
   "metadata": {},
   "outputs": [],
   "source": [
    "# # index - 1 for all because this is python!!!\n",
    "# rsc = mask_x[[48-1,96-1]].sum() # retrosplenial cortex\n",
    "\n",
    "# data_masked = data.apply_mask(rsc)"
   ]
  },
  {
   "cell_type": "code",
   "execution_count": null,
   "metadata": {},
   "outputs": [],
   "source": [
    "# anova_svc = Pipeline([('anova', feature_selection), ('svc', svc)])\n",
    "# anova_svc.fit(data_masked.data, data_masked.Y.values.ravel())\n",
    "# y_pred = anova_svc.predict(data_masked.data)"
   ]
  },
  {
   "cell_type": "code",
   "execution_count": null,
   "metadata": {},
   "outputs": [],
   "source": [
    "# cv_scores = cross_val_score(anova_svc, data_masked.data, data_masked.Y.values.ravel(), cv=5)\n",
    "\n",
    "# # Return the corresponding mean prediction accuracy\n",
    "# classification_accuracy = cv_scores.mean()\n",
    "\n",
    "# # Print the results\n",
    "# print(\"Classification accuracy: %.4f / Chandata_maskedce level: %f\" %\n",
    "#       (classification_accuracy, 1. / len(data.Y[0].unique())))"
   ]
  },
  {
   "cell_type": "markdown",
   "metadata": {},
   "source": [
    "# ROI - Precuneus"
   ]
  },
  {
   "cell_type": "code",
   "execution_count": null,
   "metadata": {},
   "outputs": [],
   "source": [
    "# # index - 1 for all because this is python!!!\n",
    "# pcun = mask_x[[35-1,36-1]].sum() # precuneus\n",
    "\n",
    "# data_masked = data.apply_mask(pcun)"
   ]
  },
  {
   "cell_type": "code",
   "execution_count": null,
   "metadata": {},
   "outputs": [],
   "source": [
    "# anova_svc = Pipeline([('anova', feature_selection), ('svc', svc)])\n",
    "# anova_svc.fit(data_masked.data, data_masked.Y.values.ravel())\n",
    "# y_pred = anova_svc.predict(data_masked.data)"
   ]
  },
  {
   "cell_type": "code",
   "execution_count": null,
   "metadata": {},
   "outputs": [],
   "source": [
    "# cv_scores = cross_val_score(anova_svc, data_masked.data, data_masked.Y.values.ravel(), cv=5)\n",
    "\n",
    "# # Return the corresponding mean prediction accuracy\n",
    "# classification_accuracy = cv_scores.mean()\n",
    "\n",
    "# # Print the results\n",
    "# print(\"Classification accuracy: %.4f / Chandata_maskedce level: %f\" %\n",
    "#       (classification_accuracy, 1. / len(data.Y[0].unique())))"
   ]
  },
  {
   "cell_type": "markdown",
   "metadata": {},
   "source": [
    "# ROI - Medial Parietal Lobe"
   ]
  },
  {
   "cell_type": "code",
   "execution_count": null,
   "metadata": {},
   "outputs": [],
   "source": [
    "# # index - 1 for all because this is python!!!\n",
    "\n",
    "# mpar = mask_x[[24-1,73-1]].sum() # medial parietal lobe\n",
    "\n",
    "# data_masked = data.apply_mask(mpar)"
   ]
  },
  {
   "cell_type": "code",
   "execution_count": null,
   "metadata": {},
   "outputs": [],
   "source": [
    "# anova_svc = Pipeline([('anova', feature_selection), ('svc', svc)])\n",
    "# anova_svc.fit(data_masked.data, data_masked.Y.values.ravel())\n",
    "# y_pred = anova_svc.predict(data_masked.data)"
   ]
  },
  {
   "cell_type": "code",
   "execution_count": null,
   "metadata": {},
   "outputs": [],
   "source": [
    "# cv_scores = cross_val_score(anova_svc, data_masked.data, data_masked.Y.values.ravel(), cv=5)\n",
    "\n",
    "# # Return the corresponding mean prediction accuracy\n",
    "# classification_accuracy = cv_scores.mean()\n",
    "\n",
    "# # Print the results\n",
    "# print(\"Classification accuracy: %.4f / Chandata_maskedce level: %f\" %\n",
    "#       (classification_accuracy, 1. / len(data.Y[0].unique())))"
   ]
  },
  {
   "cell_type": "markdown",
   "metadata": {},
   "source": [
    "# ROI - Intraparietal Sulcus"
   ]
  },
  {
   "cell_type": "code",
   "execution_count": null,
   "metadata": {},
   "outputs": [],
   "source": [
    "# # index - 1 for all because this is python!!!\n",
    "\n",
    "# ips = mask_x[[31-1,80-1]].sum() # intrapariental sulcus\n",
    "\n",
    "# data_masked = data.apply_mask(ips)"
   ]
  },
  {
   "cell_type": "code",
   "execution_count": null,
   "metadata": {},
   "outputs": [],
   "source": [
    "# anova_svc = Pipeline([('anova', feature_selection), ('svc', svc)])\n",
    "# anova_svc.fit(data_masked.data, data_masked.Y.values.ravel())\n",
    "# y_pred = anova_svc.predict(data_masked.data)"
   ]
  },
  {
   "cell_type": "code",
   "execution_count": null,
   "metadata": {},
   "outputs": [],
   "source": [
    "# cv_scores = cross_val_score(anova_svc, data_masked.data, data_masked.Y.values.ravel(), cv=5)\n",
    "\n",
    "# # Return the corresponding mean prediction accuracy\n",
    "# classification_accuracy = cv_scores.mean()\n",
    "\n",
    "# # Print the results\n",
    "# print(\"Classification accuracy: %.4f / Chandata_maskedce level: %f\" %\n",
    "#       (classification_accuracy, 1. / len(data.Y[0].unique())))"
   ]
  },
  {
   "cell_type": "markdown",
   "metadata": {},
   "source": [
    "# ROI - Extrastriate Cortex"
   ]
  },
  {
   "cell_type": "code",
   "execution_count": null,
   "metadata": {},
   "outputs": [],
   "source": [
    "# # index - 1 for all because this is python!!!\n",
    "\n",
    "# ext = mask_x[[1-1,2-1,4-1,51-1,52-1,53-1]].sum() # extrastriate cortex\n",
    "\n",
    "# data_masked = data.apply_mask(ext)"
   ]
  },
  {
   "cell_type": "code",
   "execution_count": null,
   "metadata": {},
   "outputs": [],
   "source": [
    "# anova_svc = Pipeline([('anova', feature_selection), ('svc', svc)])\n",
    "# anova_svc.fit(data_masked.data, data_masked.Y.values.ravel())\n",
    "# y_pred = anova_svc.predict(data_masked.data)"
   ]
  },
  {
   "cell_type": "code",
   "execution_count": null,
   "metadata": {},
   "outputs": [],
   "source": [
    "# cv_scores = cross_val_score(anova_svc, data_masked.data, data_masked.Y.values.ravel(), cv=5)\n",
    "\n",
    "# # Return the corresponding mean prediction accuracy\n",
    "# classification_accuracy = cv_scores.mean()\n",
    "\n",
    "# # Print the results\n",
    "# print(\"Classification accuracy: %.4f / Chandata_maskedce level: %f\" %\n",
    "#       (classification_accuracy, 1. / len(data.Y[0].unique())))"
   ]
  },
  {
   "cell_type": "markdown",
   "metadata": {},
   "source": [
    "# ROI - Parahippocampus"
   ]
  },
  {
   "cell_type": "code",
   "execution_count": null,
   "metadata": {},
   "outputs": [],
   "source": [
    "# # index - 1 for all because this is python!!!\n",
    "\n",
    "# phc = mask_x[[49-1,97-1]].sum() # parahippocampus\n",
    "\n",
    "\n",
    "# data_masked = data.apply_mask(phc)\n"
   ]
  },
  {
   "cell_type": "code",
   "execution_count": null,
   "metadata": {},
   "outputs": [],
   "source": [
    "# anova_svc = Pipeline([('anova', feature_selection), ('svc', svc)])\n",
    "# anova_svc.fit(data_masked.data, data_masked.Y.values.ravel())\n",
    "# y_pred = anova_svc.predict(data_masked.data)"
   ]
  },
  {
   "cell_type": "code",
   "execution_count": null,
   "metadata": {},
   "outputs": [],
   "source": [
    "# cv_scores = cross_val_score(anova_svc, data_masked.data, data_masked.Y.values.ravel(), cv=5)\n",
    "\n",
    "# # Return the corresponding mean prediction accuracy\n",
    "# classification_accuracy = cv_scores.mean()\n",
    "\n",
    "# # Print the results\n",
    "# print(\"Classification accuracy: %.4f / Chandata_maskedce level: %f\" %\n",
    "#       (classification_accuracy, 1. / len(data.Y[0].unique())))"
   ]
  },
  {
   "cell_type": "markdown",
   "metadata": {},
   "source": [
    "# ROI - Somatomotor Cortex"
   ]
  },
  {
   "cell_type": "code",
   "execution_count": null,
   "metadata": {},
   "outputs": [],
   "source": [
    "# index - 1 for all because this is python!!!\n",
    "\n",
    "# som = mask_x[[8-1,9-1,10-1,11-1,12-1,13-1,57-1,58-1,59-1,60-1,61-1,62-1,63-1,64-1]].sum() # somatomotor\n",
    "\n",
    "\n",
    "\n",
    "# data_masked = data.apply_mask(som)\n"
   ]
  },
  {
   "cell_type": "code",
   "execution_count": null,
   "metadata": {},
   "outputs": [],
   "source": [
    "# anova_svc = Pipeline([('anova', feature_selection), ('svc', svc)])\n",
    "# anova_svc.fit(data_masked.data, data_masked.Y.values.ravel())\n",
    "# y_pred = anova_svc.predict(data_masked.data)"
   ]
  },
  {
   "cell_type": "code",
   "execution_count": null,
   "metadata": {},
   "outputs": [],
   "source": [
    "# cv_scores = cross_val_score(anova_svc, data_masked.data, data_masked.Y.values.ravel(), cv=5)\n",
    "\n",
    "# # Return the corresponding mean prediction accuracy\n",
    "# classification_accuracy = cv_scores.mean()\n",
    "\n",
    "# # Print the results\n",
    "# print(\"Classification accuracy: %.4f / Chandata_maskedce level: %f\" %\n",
    "#       (classification_accuracy, 1. / len(data.Y[0].unique())))"
   ]
  },
  {
   "cell_type": "markdown",
   "metadata": {},
   "source": [
    "# ROI - Temporal + Temporoparietal lobe"
   ]
  },
  {
   "cell_type": "code",
   "execution_count": null,
   "metadata": {},
   "outputs": [],
   "source": [
    "# # index - 1 for all because this is python!!!\n",
    "\n",
    "# temp = mask_x[[41-1,42-1,50-1, 98-1,99-1,100-1]].sum() # temporal lobe, temporal parietal lobe\n",
    "\n",
    "# data_masked = data.apply_mask(temp)"
   ]
  },
  {
   "cell_type": "code",
   "execution_count": null,
   "metadata": {},
   "outputs": [],
   "source": [
    "# anova_svc = Pipeline([('anova', feature_selection), ('svc', svc)])\n",
    "# anova_svc.fit(data_masked.data, data_masked.Y.values.ravel())\n",
    "# y_pred = anova_svc.predict(data_masked.data)"
   ]
  },
  {
   "cell_type": "code",
   "execution_count": null,
   "metadata": {},
   "outputs": [],
   "source": [
    "# cv_scores = cross_val_score(anova_svc, data_masked.data, data_masked.Y.values.ravel(), cv=5)\n",
    "\n",
    "# # Return the corresponding mean prediction accuracy\n",
    "# classification_accuracy = cv_scores.mean()\n",
    "\n",
    "# # Print the results\n",
    "# print(\"Classification accuracy: %.4f / Chandata_maskedce level: %f\" %\n",
    "#       (classification_accuracy, 1. / len(data.Y[0].unique())))"
   ]
  }
 ],
 "metadata": {
  "kernelspec": {
   "display_name": "Python 3",
   "language": "python",
   "name": "python3"
  },
  "language_info": {
   "codemirror_mode": {
    "name": "ipython",
    "version": 3
   },
   "file_extension": ".py",
   "mimetype": "text/x-python",
   "name": "python",
   "nbconvert_exporter": "python",
   "pygments_lexer": "ipython3",
   "version": "3.7.7"
  }
 },
 "nbformat": 4,
 "nbformat_minor": 4
}
