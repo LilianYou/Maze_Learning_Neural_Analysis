{
 "cells": [
  {
   "cell_type": "markdown",
   "metadata": {},
   "source": [
    "# read data"
   ]
  },
  {
   "cell_type": "code",
   "execution_count": 1,
   "metadata": {},
   "outputs": [
    {
     "name": "stdout",
     "output_type": "stream",
     "text": [
      "Requirement already satisfied: joblib in /tmp/nethomes/lily-1000085/.local/lib/python3.7/site-packages (1.0.0)\n",
      "Note: you may need to restart the kernel to use updated packages.\n"
     ]
    }
   ],
   "source": [
    "pip install --user joblib"
   ]
  },
  {
   "cell_type": "code",
   "execution_count": 2,
   "metadata": {},
   "outputs": [
    {
     "name": "stdout",
     "output_type": "stream",
     "text": [
      "['/mnt/chrastil/lab/users/lily/face_direction_decision_point/localizer_beta_series_all_run_exploration/derivatives/nibetaseries_no_atlas/sub-002/func/sub-002_task-boldRun5_run-1_space-MNI152NLin2009cAsym_desc-E_betaseries.nii.gz', '/mnt/chrastil/lab/users/lily/face_direction_decision_point/localizer_beta_series_all_run_exploration/derivatives/nibetaseries_no_atlas/sub-002/func/sub-002_task-boldRun1_run-1_space-MNI152NLin2009cAsym_desc-E_betaseries.nii.gz', '/mnt/chrastil/lab/users/lily/face_direction_decision_point/localizer_beta_series_all_run_exploration/derivatives/nibetaseries_no_atlas/sub-002/func/sub-002_task-boldRun6_run-1_space-MNI152NLin2009cAsym_desc-E_betaseries.nii.gz', '/mnt/chrastil/lab/users/lily/face_direction_decision_point/localizer_beta_series_all_run_exploration/derivatives/nibetaseries_no_atlas/sub-002/func/sub-002_task-boldRun3_run-1_space-MNI152NLin2009cAsym_desc-E_betaseries.nii.gz', '/mnt/chrastil/lab/users/lily/face_direction_decision_point/localizer_beta_series_all_run_exploration/derivatives/nibetaseries_no_atlas/sub-002/func/sub-002_task-boldRun4_run-1_space-MNI152NLin2009cAsym_desc-E_betaseries.nii.gz', '/mnt/chrastil/lab/users/lily/face_direction_decision_point/localizer_beta_series_all_run_exploration/derivatives/nibetaseries_no_atlas/sub-002/func/sub-002_task-boldRun2_run-1_space-MNI152NLin2009cAsym_desc-E_betaseries.nii.gz']\n",
      "['/mnt/chrastil/lab/users/lily/face_direction_decision_point/localizer_beta_series_all_run_exploration/derivatives/nibetaseries_no_atlas/sub-003/func/sub-003_task-boldRun5_run-1_space-MNI152NLin2009cAsym_desc-E_betaseries.nii.gz', '/mnt/chrastil/lab/users/lily/face_direction_decision_point/localizer_beta_series_all_run_exploration/derivatives/nibetaseries_no_atlas/sub-003/func/sub-003_task-boldRun3_run-1_space-MNI152NLin2009cAsym_desc-E_betaseries.nii.gz', '/mnt/chrastil/lab/users/lily/face_direction_decision_point/localizer_beta_series_all_run_exploration/derivatives/nibetaseries_no_atlas/sub-003/func/sub-003_task-boldRun2_run-1_space-MNI152NLin2009cAsym_desc-E_betaseries.nii.gz', '/mnt/chrastil/lab/users/lily/face_direction_decision_point/localizer_beta_series_all_run_exploration/derivatives/nibetaseries_no_atlas/sub-003/func/sub-003_task-boldRun4_run-1_space-MNI152NLin2009cAsym_desc-E_betaseries.nii.gz', '/mnt/chrastil/lab/users/lily/face_direction_decision_point/localizer_beta_series_all_run_exploration/derivatives/nibetaseries_no_atlas/sub-003/func/sub-003_task-boldRun1_run-1_space-MNI152NLin2009cAsym_desc-E_betaseries.nii.gz', '/mnt/chrastil/lab/users/lily/face_direction_decision_point/localizer_beta_series_all_run_exploration/derivatives/nibetaseries_no_atlas/sub-003/func/sub-003_task-boldRun6_run-1_space-MNI152NLin2009cAsym_desc-E_betaseries.nii.gz']\n",
      "['/mnt/chrastil/lab/users/lily/face_direction_decision_point/localizer_beta_series_all_run_exploration/derivatives/nibetaseries_no_atlas/sub-005/func/sub-005_task-boldRun4_run-1_space-MNI152NLin2009cAsym_desc-E_betaseries.nii.gz', '/mnt/chrastil/lab/users/lily/face_direction_decision_point/localizer_beta_series_all_run_exploration/derivatives/nibetaseries_no_atlas/sub-005/func/sub-005_task-boldRun5_run-1_space-MNI152NLin2009cAsym_desc-E_betaseries.nii.gz', '/mnt/chrastil/lab/users/lily/face_direction_decision_point/localizer_beta_series_all_run_exploration/derivatives/nibetaseries_no_atlas/sub-005/func/sub-005_task-boldRun6_run-1_space-MNI152NLin2009cAsym_desc-E_betaseries.nii.gz', '/mnt/chrastil/lab/users/lily/face_direction_decision_point/localizer_beta_series_all_run_exploration/derivatives/nibetaseries_no_atlas/sub-005/func/sub-005_task-boldRun3_run-1_space-MNI152NLin2009cAsym_desc-E_betaseries.nii.gz', '/mnt/chrastil/lab/users/lily/face_direction_decision_point/localizer_beta_series_all_run_exploration/derivatives/nibetaseries_no_atlas/sub-005/func/sub-005_task-boldRun1_run-1_space-MNI152NLin2009cAsym_desc-E_betaseries.nii.gz', '/mnt/chrastil/lab/users/lily/face_direction_decision_point/localizer_beta_series_all_run_exploration/derivatives/nibetaseries_no_atlas/sub-005/func/sub-005_task-boldRun2_run-1_space-MNI152NLin2009cAsym_desc-E_betaseries.nii.gz']\n"
     ]
    },
    {
     "name": "stderr",
     "output_type": "stream",
     "text": [
      "/home/lily/.local/lib/python3.7/site-packages/joblib/externals/loky/process_executor.py:691: UserWarning: A worker stopped while some jobs were given to the executor. This can be caused by a too short worker timeout or by a memory leak.\n",
      "  \"timeout or by a memory leak.\", UserWarning\n"
     ]
    },
    {
     "name": "stdout",
     "output_type": "stream",
     "text": [
      "['/mnt/chrastil/lab/users/lily/face_direction_decision_point/localizer_beta_series_all_run_exploration/derivatives/nibetaseries_no_atlas/sub-014/func/sub-014_task-boldRun4_run-1_space-MNI152NLin2009cAsym_desc-E_betaseries.nii.gz', '/mnt/chrastil/lab/users/lily/face_direction_decision_point/localizer_beta_series_all_run_exploration/derivatives/nibetaseries_no_atlas/sub-014/func/sub-014_task-boldRun3_run-1_space-MNI152NLin2009cAsym_desc-E_betaseries.nii.gz', '/mnt/chrastil/lab/users/lily/face_direction_decision_point/localizer_beta_series_all_run_exploration/derivatives/nibetaseries_no_atlas/sub-014/func/sub-014_task-boldRun5_run-1_space-MNI152NLin2009cAsym_desc-E_betaseries.nii.gz', '/mnt/chrastil/lab/users/lily/face_direction_decision_point/localizer_beta_series_all_run_exploration/derivatives/nibetaseries_no_atlas/sub-014/func/sub-014_task-boldRun2_run-1_space-MNI152NLin2009cAsym_desc-E_betaseries.nii.gz', '/mnt/chrastil/lab/users/lily/face_direction_decision_point/localizer_beta_series_all_run_exploration/derivatives/nibetaseries_no_atlas/sub-014/func/sub-014_task-boldRun1_run-1_space-MNI152NLin2009cAsym_desc-E_betaseries.nii.gz', '/mnt/chrastil/lab/users/lily/face_direction_decision_point/localizer_beta_series_all_run_exploration/derivatives/nibetaseries_no_atlas/sub-014/func/sub-014_task-boldRun6_run-1_space-MNI152NLin2009cAsym_desc-E_betaseries.nii.gz']\n",
      "['/mnt/chrastil/lab/users/lily/face_direction_decision_point/localizer_beta_series_all_run_exploration/derivatives/nibetaseries_no_atlas/sub-018/func/sub-018_task-boldRun6_run-1_space-MNI152NLin2009cAsym_desc-E_betaseries.nii.gz', '/mnt/chrastil/lab/users/lily/face_direction_decision_point/localizer_beta_series_all_run_exploration/derivatives/nibetaseries_no_atlas/sub-018/func/sub-018_task-boldRun5_run-1_space-MNI152NLin2009cAsym_desc-E_betaseries.nii.gz', '/mnt/chrastil/lab/users/lily/face_direction_decision_point/localizer_beta_series_all_run_exploration/derivatives/nibetaseries_no_atlas/sub-018/func/sub-018_task-boldRun2_run-1_space-MNI152NLin2009cAsym_desc-E_betaseries.nii.gz', '/mnt/chrastil/lab/users/lily/face_direction_decision_point/localizer_beta_series_all_run_exploration/derivatives/nibetaseries_no_atlas/sub-018/func/sub-018_task-boldRun1_run-1_space-MNI152NLin2009cAsym_desc-E_betaseries.nii.gz', '/mnt/chrastil/lab/users/lily/face_direction_decision_point/localizer_beta_series_all_run_exploration/derivatives/nibetaseries_no_atlas/sub-018/func/sub-018_task-boldRun4_run-1_space-MNI152NLin2009cAsym_desc-E_betaseries.nii.gz', '/mnt/chrastil/lab/users/lily/face_direction_decision_point/localizer_beta_series_all_run_exploration/derivatives/nibetaseries_no_atlas/sub-018/func/sub-018_task-boldRun3_run-1_space-MNI152NLin2009cAsym_desc-E_betaseries.nii.gz']\n"
     ]
    },
    {
     "name": "stderr",
     "output_type": "stream",
     "text": [
      "/home/lily/.local/lib/python3.7/site-packages/joblib/externals/loky/process_executor.py:691: UserWarning: A worker stopped while some jobs were given to the executor. This can be caused by a too short worker timeout or by a memory leak.\n",
      "  \"timeout or by a memory leak.\", UserWarning\n"
     ]
    },
    {
     "name": "stdout",
     "output_type": "stream",
     "text": [
      "['/mnt/chrastil/lab/users/lily/face_direction_decision_point/localizer_beta_series_all_run_exploration/derivatives/nibetaseries_no_atlas/sub-019/func/sub-019_task-boldRun2_run-1_space-MNI152NLin2009cAsym_desc-E_betaseries.nii.gz', '/mnt/chrastil/lab/users/lily/face_direction_decision_point/localizer_beta_series_all_run_exploration/derivatives/nibetaseries_no_atlas/sub-019/func/sub-019_task-boldRun6_run-1_space-MNI152NLin2009cAsym_desc-E_betaseries.nii.gz', '/mnt/chrastil/lab/users/lily/face_direction_decision_point/localizer_beta_series_all_run_exploration/derivatives/nibetaseries_no_atlas/sub-019/func/sub-019_task-boldRun3_run-1_space-MNI152NLin2009cAsym_desc-E_betaseries.nii.gz', '/mnt/chrastil/lab/users/lily/face_direction_decision_point/localizer_beta_series_all_run_exploration/derivatives/nibetaseries_no_atlas/sub-019/func/sub-019_task-boldRun5_run-1_space-MNI152NLin2009cAsym_desc-E_betaseries.nii.gz', '/mnt/chrastil/lab/users/lily/face_direction_decision_point/localizer_beta_series_all_run_exploration/derivatives/nibetaseries_no_atlas/sub-019/func/sub-019_task-boldRun4_run-1_space-MNI152NLin2009cAsym_desc-E_betaseries.nii.gz', '/mnt/chrastil/lab/users/lily/face_direction_decision_point/localizer_beta_series_all_run_exploration/derivatives/nibetaseries_no_atlas/sub-019/func/sub-019_task-boldRun1_run-1_space-MNI152NLin2009cAsym_desc-E_betaseries.nii.gz']\n"
     ]
    },
    {
     "name": "stderr",
     "output_type": "stream",
     "text": [
      "/home/lily/.local/lib/python3.7/site-packages/joblib/externals/loky/process_executor.py:691: UserWarning: A worker stopped while some jobs were given to the executor. This can be caused by a too short worker timeout or by a memory leak.\n",
      "  \"timeout or by a memory leak.\", UserWarning\n"
     ]
    },
    {
     "name": "stdout",
     "output_type": "stream",
     "text": [
      "['/mnt/chrastil/lab/users/lily/face_direction_decision_point/localizer_beta_series_all_run_exploration/derivatives/nibetaseries_no_atlas/sub-020/func/sub-020_task-boldRun6_run-1_space-MNI152NLin2009cAsym_desc-E_betaseries.nii.gz', '/mnt/chrastil/lab/users/lily/face_direction_decision_point/localizer_beta_series_all_run_exploration/derivatives/nibetaseries_no_atlas/sub-020/func/sub-020_task-boldRun4_run-1_space-MNI152NLin2009cAsym_desc-E_betaseries.nii.gz', '/mnt/chrastil/lab/users/lily/face_direction_decision_point/localizer_beta_series_all_run_exploration/derivatives/nibetaseries_no_atlas/sub-020/func/sub-020_task-boldRun5_run-1_space-MNI152NLin2009cAsym_desc-E_betaseries.nii.gz', '/mnt/chrastil/lab/users/lily/face_direction_decision_point/localizer_beta_series_all_run_exploration/derivatives/nibetaseries_no_atlas/sub-020/func/sub-020_task-boldRun3_run-1_space-MNI152NLin2009cAsym_desc-E_betaseries.nii.gz', '/mnt/chrastil/lab/users/lily/face_direction_decision_point/localizer_beta_series_all_run_exploration/derivatives/nibetaseries_no_atlas/sub-020/func/sub-020_task-boldRun2_run-1_space-MNI152NLin2009cAsym_desc-E_betaseries.nii.gz', '/mnt/chrastil/lab/users/lily/face_direction_decision_point/localizer_beta_series_all_run_exploration/derivatives/nibetaseries_no_atlas/sub-020/func/sub-020_task-boldRun1_run-1_space-MNI152NLin2009cAsym_desc-E_betaseries.nii.gz']\n",
      "['/mnt/chrastil/lab/users/lily/face_direction_decision_point/localizer_beta_series_all_run_exploration/derivatives/nibetaseries_no_atlas/sub-021/func/sub-021_task-boldRun6_run-1_space-MNI152NLin2009cAsym_desc-E_betaseries.nii.gz', '/mnt/chrastil/lab/users/lily/face_direction_decision_point/localizer_beta_series_all_run_exploration/derivatives/nibetaseries_no_atlas/sub-021/func/sub-021_task-boldRun3_run-1_space-MNI152NLin2009cAsym_desc-E_betaseries.nii.gz', '/mnt/chrastil/lab/users/lily/face_direction_decision_point/localizer_beta_series_all_run_exploration/derivatives/nibetaseries_no_atlas/sub-021/func/sub-021_task-boldRun2_run-1_space-MNI152NLin2009cAsym_desc-E_betaseries.nii.gz', '/mnt/chrastil/lab/users/lily/face_direction_decision_point/localizer_beta_series_all_run_exploration/derivatives/nibetaseries_no_atlas/sub-021/func/sub-021_task-boldRun5_run-1_space-MNI152NLin2009cAsym_desc-E_betaseries.nii.gz', '/mnt/chrastil/lab/users/lily/face_direction_decision_point/localizer_beta_series_all_run_exploration/derivatives/nibetaseries_no_atlas/sub-021/func/sub-021_task-boldRun4_run-1_space-MNI152NLin2009cAsym_desc-E_betaseries.nii.gz', '/mnt/chrastil/lab/users/lily/face_direction_decision_point/localizer_beta_series_all_run_exploration/derivatives/nibetaseries_no_atlas/sub-021/func/sub-021_task-boldRun1_run-1_space-MNI152NLin2009cAsym_desc-E_betaseries.nii.gz']\n",
      "['/mnt/chrastil/lab/users/lily/face_direction_decision_point/localizer_beta_series_all_run_exploration/derivatives/nibetaseries_no_atlas/sub-017/func/sub-017_task-boldRun5_run-1_space-MNI152NLin2009cAsym_desc-E_betaseries.nii.gz', '/mnt/chrastil/lab/users/lily/face_direction_decision_point/localizer_beta_series_all_run_exploration/derivatives/nibetaseries_no_atlas/sub-017/func/sub-017_task-boldRun6_run-1_space-MNI152NLin2009cAsym_desc-E_betaseries.nii.gz', '/mnt/chrastil/lab/users/lily/face_direction_decision_point/localizer_beta_series_all_run_exploration/derivatives/nibetaseries_no_atlas/sub-017/func/sub-017_task-boldRun3_run-1_space-MNI152NLin2009cAsym_desc-E_betaseries.nii.gz', '/mnt/chrastil/lab/users/lily/face_direction_decision_point/localizer_beta_series_all_run_exploration/derivatives/nibetaseries_no_atlas/sub-017/func/sub-017_task-boldRun1_run-1_space-MNI152NLin2009cAsym_desc-E_betaseries.nii.gz', '/mnt/chrastil/lab/users/lily/face_direction_decision_point/localizer_beta_series_all_run_exploration/derivatives/nibetaseries_no_atlas/sub-017/func/sub-017_task-boldRun2_run-1_space-MNI152NLin2009cAsym_desc-E_betaseries.nii.gz', '/mnt/chrastil/lab/users/lily/face_direction_decision_point/localizer_beta_series_all_run_exploration/derivatives/nibetaseries_no_atlas/sub-017/func/sub-017_task-boldRun4_run-1_space-MNI152NLin2009cAsym_desc-E_betaseries.nii.gz']\n",
      "['/mnt/chrastil/lab/users/lily/face_direction_decision_point/localizer_beta_series_all_run_exploration/derivatives/nibetaseries_no_atlas/sub-033/func/sub-033_task-boldRun5_run-1_space-MNI152NLin2009cAsym_desc-E_betaseries.nii.gz', '/mnt/chrastil/lab/users/lily/face_direction_decision_point/localizer_beta_series_all_run_exploration/derivatives/nibetaseries_no_atlas/sub-033/func/sub-033_task-boldRun3_run-1_space-MNI152NLin2009cAsym_desc-E_betaseries.nii.gz', '/mnt/chrastil/lab/users/lily/face_direction_decision_point/localizer_beta_series_all_run_exploration/derivatives/nibetaseries_no_atlas/sub-033/func/sub-033_task-boldRun6_run-1_space-MNI152NLin2009cAsym_desc-E_betaseries.nii.gz', '/mnt/chrastil/lab/users/lily/face_direction_decision_point/localizer_beta_series_all_run_exploration/derivatives/nibetaseries_no_atlas/sub-033/func/sub-033_task-boldRun4_run-1_space-MNI152NLin2009cAsym_desc-E_betaseries.nii.gz', '/mnt/chrastil/lab/users/lily/face_direction_decision_point/localizer_beta_series_all_run_exploration/derivatives/nibetaseries_no_atlas/sub-033/func/sub-033_task-boldRun2_run-1_space-MNI152NLin2009cAsym_desc-E_betaseries.nii.gz', '/mnt/chrastil/lab/users/lily/face_direction_decision_point/localizer_beta_series_all_run_exploration/derivatives/nibetaseries_no_atlas/sub-033/func/sub-033_task-boldRun1_run-2_space-MNI152NLin2009cAsym_desc-E_betaseries.nii.gz']\n",
      "['/mnt/chrastil/lab/users/lily/face_direction_decision_point/localizer_beta_series_all_run_exploration/derivatives/nibetaseries_no_atlas/sub-024/func/sub-024_task-boldRun6_run-1_space-MNI152NLin2009cAsym_desc-E_betaseries.nii.gz', '/mnt/chrastil/lab/users/lily/face_direction_decision_point/localizer_beta_series_all_run_exploration/derivatives/nibetaseries_no_atlas/sub-024/func/sub-024_task-boldRun3_run-1_space-MNI152NLin2009cAsym_desc-E_betaseries.nii.gz', '/mnt/chrastil/lab/users/lily/face_direction_decision_point/localizer_beta_series_all_run_exploration/derivatives/nibetaseries_no_atlas/sub-024/func/sub-024_task-boldRun2_run-1_space-MNI152NLin2009cAsym_desc-E_betaseries.nii.gz', '/mnt/chrastil/lab/users/lily/face_direction_decision_point/localizer_beta_series_all_run_exploration/derivatives/nibetaseries_no_atlas/sub-024/func/sub-024_task-boldRun5_run-1_space-MNI152NLin2009cAsym_desc-E_betaseries.nii.gz', '/mnt/chrastil/lab/users/lily/face_direction_decision_point/localizer_beta_series_all_run_exploration/derivatives/nibetaseries_no_atlas/sub-024/func/sub-024_task-boldRun1_run-1_space-MNI152NLin2009cAsym_desc-E_betaseries.nii.gz', '/mnt/chrastil/lab/users/lily/face_direction_decision_point/localizer_beta_series_all_run_exploration/derivatives/nibetaseries_no_atlas/sub-024/func/sub-024_task-boldRun4_run-1_space-MNI152NLin2009cAsym_desc-E_betaseries.nii.gz']\n"
     ]
    },
    {
     "name": "stderr",
     "output_type": "stream",
     "text": [
      "/home/lily/.local/lib/python3.7/site-packages/joblib/externals/loky/process_executor.py:691: UserWarning: A worker stopped while some jobs were given to the executor. This can be caused by a too short worker timeout or by a memory leak.\n",
      "  \"timeout or by a memory leak.\", UserWarning\n"
     ]
    },
    {
     "name": "stdout",
     "output_type": "stream",
     "text": [
      "['/mnt/chrastil/lab/users/lily/face_direction_decision_point/localizer_beta_series_all_run_exploration/derivatives/nibetaseries_no_atlas/sub-025/func/sub-025_task-boldRun6_run-1_space-MNI152NLin2009cAsym_desc-E_betaseries.nii.gz', '/mnt/chrastil/lab/users/lily/face_direction_decision_point/localizer_beta_series_all_run_exploration/derivatives/nibetaseries_no_atlas/sub-025/func/sub-025_task-boldRun5_run-1_space-MNI152NLin2009cAsym_desc-E_betaseries.nii.gz', '/mnt/chrastil/lab/users/lily/face_direction_decision_point/localizer_beta_series_all_run_exploration/derivatives/nibetaseries_no_atlas/sub-025/func/sub-025_task-boldRun1_run-1_space-MNI152NLin2009cAsym_desc-E_betaseries.nii.gz', '/mnt/chrastil/lab/users/lily/face_direction_decision_point/localizer_beta_series_all_run_exploration/derivatives/nibetaseries_no_atlas/sub-025/func/sub-025_task-boldRun4_run-1_space-MNI152NLin2009cAsym_desc-E_betaseries.nii.gz', '/mnt/chrastil/lab/users/lily/face_direction_decision_point/localizer_beta_series_all_run_exploration/derivatives/nibetaseries_no_atlas/sub-025/func/sub-025_task-boldRun3_run-1_space-MNI152NLin2009cAsym_desc-E_betaseries.nii.gz', '/mnt/chrastil/lab/users/lily/face_direction_decision_point/localizer_beta_series_all_run_exploration/derivatives/nibetaseries_no_atlas/sub-025/func/sub-025_task-boldRun2_run-1_space-MNI152NLin2009cAsym_desc-E_betaseries.nii.gz']\n",
      "['/mnt/chrastil/lab/users/lily/face_direction_decision_point/localizer_beta_series_all_run_exploration/derivatives/nibetaseries_no_atlas/sub-027/func/sub-027_task-boldRun2_run-1_space-MNI152NLin2009cAsym_desc-E_betaseries.nii.gz', '/mnt/chrastil/lab/users/lily/face_direction_decision_point/localizer_beta_series_all_run_exploration/derivatives/nibetaseries_no_atlas/sub-027/func/sub-027_task-boldRun1_run-1_space-MNI152NLin2009cAsym_desc-E_betaseries.nii.gz', '/mnt/chrastil/lab/users/lily/face_direction_decision_point/localizer_beta_series_all_run_exploration/derivatives/nibetaseries_no_atlas/sub-027/func/sub-027_task-boldRun4_run-1_space-MNI152NLin2009cAsym_desc-E_betaseries.nii.gz', '/mnt/chrastil/lab/users/lily/face_direction_decision_point/localizer_beta_series_all_run_exploration/derivatives/nibetaseries_no_atlas/sub-027/func/sub-027_task-boldRun5_run-1_space-MNI152NLin2009cAsym_desc-E_betaseries.nii.gz', '/mnt/chrastil/lab/users/lily/face_direction_decision_point/localizer_beta_series_all_run_exploration/derivatives/nibetaseries_no_atlas/sub-027/func/sub-027_task-boldRun3_run-1_space-MNI152NLin2009cAsym_desc-E_betaseries.nii.gz', '/mnt/chrastil/lab/users/lily/face_direction_decision_point/localizer_beta_series_all_run_exploration/derivatives/nibetaseries_no_atlas/sub-027/func/sub-027_task-boldRun6_run-1_space-MNI152NLin2009cAsym_desc-E_betaseries.nii.gz']\n"
     ]
    },
    {
     "name": "stderr",
     "output_type": "stream",
     "text": [
      "/home/lily/.local/lib/python3.7/site-packages/joblib/externals/loky/process_executor.py:691: UserWarning: A worker stopped while some jobs were given to the executor. This can be caused by a too short worker timeout or by a memory leak.\n",
      "  \"timeout or by a memory leak.\", UserWarning\n"
     ]
    },
    {
     "name": "stdout",
     "output_type": "stream",
     "text": [
      "['/mnt/chrastil/lab/users/lily/face_direction_decision_point/localizer_beta_series_all_run_exploration/derivatives/nibetaseries_no_atlas/sub-032/func/sub-032_task-boldRun6_run-1_space-MNI152NLin2009cAsym_desc-E_betaseries.nii.gz', '/mnt/chrastil/lab/users/lily/face_direction_decision_point/localizer_beta_series_all_run_exploration/derivatives/nibetaseries_no_atlas/sub-032/func/sub-032_task-boldRun2_run-1_space-MNI152NLin2009cAsym_desc-E_betaseries.nii.gz', '/mnt/chrastil/lab/users/lily/face_direction_decision_point/localizer_beta_series_all_run_exploration/derivatives/nibetaseries_no_atlas/sub-032/func/sub-032_task-boldRun5_run-1_space-MNI152NLin2009cAsym_desc-E_betaseries.nii.gz', '/mnt/chrastil/lab/users/lily/face_direction_decision_point/localizer_beta_series_all_run_exploration/derivatives/nibetaseries_no_atlas/sub-032/func/sub-032_task-boldRun1_run-1_space-MNI152NLin2009cAsym_desc-E_betaseries.nii.gz', '/mnt/chrastil/lab/users/lily/face_direction_decision_point/localizer_beta_series_all_run_exploration/derivatives/nibetaseries_no_atlas/sub-032/func/sub-032_task-boldRun3_run-1_space-MNI152NLin2009cAsym_desc-E_betaseries.nii.gz', '/mnt/chrastil/lab/users/lily/face_direction_decision_point/localizer_beta_series_all_run_exploration/derivatives/nibetaseries_no_atlas/sub-032/func/sub-032_task-boldRun4_run-1_space-MNI152NLin2009cAsym_desc-E_betaseries.nii.gz']\n"
     ]
    },
    {
     "name": "stderr",
     "output_type": "stream",
     "text": [
      "/home/lily/.local/lib/python3.7/site-packages/joblib/externals/loky/process_executor.py:691: UserWarning: A worker stopped while some jobs were given to the executor. This can be caused by a too short worker timeout or by a memory leak.\n",
      "  \"timeout or by a memory leak.\", UserWarning\n",
      "/home/lily/.local/lib/python3.7/site-packages/joblib/externals/loky/process_executor.py:691: UserWarning: A worker stopped while some jobs were given to the executor. This can be caused by a too short worker timeout or by a memory leak.\n",
      "  \"timeout or by a memory leak.\", UserWarning\n"
     ]
    },
    {
     "name": "stdout",
     "output_type": "stream",
     "text": [
      "['/mnt/chrastil/lab/users/lily/face_direction_decision_point/localizer_beta_series_all_run_exploration/derivatives/nibetaseries_no_atlas/sub-029/func/sub-029_task-boldRun6_run-1_space-MNI152NLin2009cAsym_desc-E_betaseries.nii.gz', '/mnt/chrastil/lab/users/lily/face_direction_decision_point/localizer_beta_series_all_run_exploration/derivatives/nibetaseries_no_atlas/sub-029/func/sub-029_task-boldRun3_run-1_space-MNI152NLin2009cAsym_desc-E_betaseries.nii.gz', '/mnt/chrastil/lab/users/lily/face_direction_decision_point/localizer_beta_series_all_run_exploration/derivatives/nibetaseries_no_atlas/sub-029/func/sub-029_task-boldRun5_run-1_space-MNI152NLin2009cAsym_desc-E_betaseries.nii.gz', '/mnt/chrastil/lab/users/lily/face_direction_decision_point/localizer_beta_series_all_run_exploration/derivatives/nibetaseries_no_atlas/sub-029/func/sub-029_task-boldRun4_run-1_space-MNI152NLin2009cAsym_desc-E_betaseries.nii.gz', '/mnt/chrastil/lab/users/lily/face_direction_decision_point/localizer_beta_series_all_run_exploration/derivatives/nibetaseries_no_atlas/sub-029/func/sub-029_task-boldRun2_run-1_space-MNI152NLin2009cAsym_desc-E_betaseries.nii.gz', '/mnt/chrastil/lab/users/lily/face_direction_decision_point/localizer_beta_series_all_run_exploration/derivatives/nibetaseries_no_atlas/sub-029/func/sub-029_task-boldRun1_run-1_space-MNI152NLin2009cAsym_desc-E_betaseries.nii.gz']\n"
     ]
    },
    {
     "name": "stderr",
     "output_type": "stream",
     "text": [
      "/home/lily/.local/lib/python3.7/site-packages/joblib/externals/loky/process_executor.py:691: UserWarning: A worker stopped while some jobs were given to the executor. This can be caused by a too short worker timeout or by a memory leak.\n",
      "  \"timeout or by a memory leak.\", UserWarning\n"
     ]
    },
    {
     "name": "stdout",
     "output_type": "stream",
     "text": [
      "['/mnt/chrastil/lab/users/lily/face_direction_decision_point/localizer_beta_series_all_run_exploration/derivatives/nibetaseries_no_atlas/sub-037/func/sub-037_task-boldRun5_run-1_space-MNI152NLin2009cAsym_desc-E_betaseries.nii.gz', '/mnt/chrastil/lab/users/lily/face_direction_decision_point/localizer_beta_series_all_run_exploration/derivatives/nibetaseries_no_atlas/sub-037/func/sub-037_task-boldRun1_run-1_space-MNI152NLin2009cAsym_desc-E_betaseries.nii.gz', '/mnt/chrastil/lab/users/lily/face_direction_decision_point/localizer_beta_series_all_run_exploration/derivatives/nibetaseries_no_atlas/sub-037/func/sub-037_task-boldRun6_run-1_space-MNI152NLin2009cAsym_desc-E_betaseries.nii.gz', '/mnt/chrastil/lab/users/lily/face_direction_decision_point/localizer_beta_series_all_run_exploration/derivatives/nibetaseries_no_atlas/sub-037/func/sub-037_task-boldRun4_run-1_space-MNI152NLin2009cAsym_desc-E_betaseries.nii.gz', '/mnt/chrastil/lab/users/lily/face_direction_decision_point/localizer_beta_series_all_run_exploration/derivatives/nibetaseries_no_atlas/sub-037/func/sub-037_task-boldRun3_run-1_space-MNI152NLin2009cAsym_desc-E_betaseries.nii.gz', '/mnt/chrastil/lab/users/lily/face_direction_decision_point/localizer_beta_series_all_run_exploration/derivatives/nibetaseries_no_atlas/sub-037/func/sub-037_task-boldRun2_run-1_space-MNI152NLin2009cAsym_desc-E_betaseries.nii.gz']\n",
      "['/mnt/chrastil/lab/users/lily/face_direction_decision_point/localizer_beta_series_all_run_exploration/derivatives/nibetaseries_no_atlas/sub-038/func/sub-038_task-boldRun6_run-1_space-MNI152NLin2009cAsym_desc-E_betaseries.nii.gz', '/mnt/chrastil/lab/users/lily/face_direction_decision_point/localizer_beta_series_all_run_exploration/derivatives/nibetaseries_no_atlas/sub-038/func/sub-038_task-boldRun2_run-1_space-MNI152NLin2009cAsym_desc-E_betaseries.nii.gz', '/mnt/chrastil/lab/users/lily/face_direction_decision_point/localizer_beta_series_all_run_exploration/derivatives/nibetaseries_no_atlas/sub-038/func/sub-038_task-boldRun1_run-1_space-MNI152NLin2009cAsym_desc-E_betaseries.nii.gz', '/mnt/chrastil/lab/users/lily/face_direction_decision_point/localizer_beta_series_all_run_exploration/derivatives/nibetaseries_no_atlas/sub-038/func/sub-038_task-boldRun3_run-1_space-MNI152NLin2009cAsym_desc-E_betaseries.nii.gz', '/mnt/chrastil/lab/users/lily/face_direction_decision_point/localizer_beta_series_all_run_exploration/derivatives/nibetaseries_no_atlas/sub-038/func/sub-038_task-boldRun5_run-1_space-MNI152NLin2009cAsym_desc-E_betaseries.nii.gz', '/mnt/chrastil/lab/users/lily/face_direction_decision_point/localizer_beta_series_all_run_exploration/derivatives/nibetaseries_no_atlas/sub-038/func/sub-038_task-boldRun4_run-1_space-MNI152NLin2009cAsym_desc-E_betaseries.nii.gz']\n"
     ]
    },
    {
     "name": "stderr",
     "output_type": "stream",
     "text": [
      "/home/lily/.local/lib/python3.7/site-packages/joblib/externals/loky/process_executor.py:691: UserWarning: A worker stopped while some jobs were given to the executor. This can be caused by a too short worker timeout or by a memory leak.\n",
      "  \"timeout or by a memory leak.\", UserWarning\n"
     ]
    },
    {
     "name": "stdout",
     "output_type": "stream",
     "text": [
      "['/mnt/chrastil/lab/users/lily/face_direction_decision_point/localizer_beta_series_all_run_exploration/derivatives/nibetaseries_no_atlas/sub-036/func/sub-036_task-boldRun2_run-1_space-MNI152NLin2009cAsym_desc-E_betaseries.nii.gz', '/mnt/chrastil/lab/users/lily/face_direction_decision_point/localizer_beta_series_all_run_exploration/derivatives/nibetaseries_no_atlas/sub-036/func/sub-036_task-boldRun3_run-1_space-MNI152NLin2009cAsym_desc-E_betaseries.nii.gz', '/mnt/chrastil/lab/users/lily/face_direction_decision_point/localizer_beta_series_all_run_exploration/derivatives/nibetaseries_no_atlas/sub-036/func/sub-036_task-boldRun4_run-1_space-MNI152NLin2009cAsym_desc-E_betaseries.nii.gz', '/mnt/chrastil/lab/users/lily/face_direction_decision_point/localizer_beta_series_all_run_exploration/derivatives/nibetaseries_no_atlas/sub-036/func/sub-036_task-boldRun6_run-1_space-MNI152NLin2009cAsym_desc-E_betaseries.nii.gz', '/mnt/chrastil/lab/users/lily/face_direction_decision_point/localizer_beta_series_all_run_exploration/derivatives/nibetaseries_no_atlas/sub-036/func/sub-036_task-boldRun5_run-1_space-MNI152NLin2009cAsym_desc-E_betaseries.nii.gz', '/mnt/chrastil/lab/users/lily/face_direction_decision_point/localizer_beta_series_all_run_exploration/derivatives/nibetaseries_no_atlas/sub-036/func/sub-036_task-boldRun1_run-1_space-MNI152NLin2009cAsym_desc-E_betaseries.nii.gz']\n",
      "['/mnt/chrastil/lab/users/lily/face_direction_decision_point/localizer_beta_series_all_run_exploration/derivatives/nibetaseries_no_atlas/sub-041/func/sub-041_task-boldRun5_run-1_space-MNI152NLin2009cAsym_desc-E_betaseries.nii.gz', '/mnt/chrastil/lab/users/lily/face_direction_decision_point/localizer_beta_series_all_run_exploration/derivatives/nibetaseries_no_atlas/sub-041/func/sub-041_task-boldRun3_run-1_space-MNI152NLin2009cAsym_desc-E_betaseries.nii.gz', '/mnt/chrastil/lab/users/lily/face_direction_decision_point/localizer_beta_series_all_run_exploration/derivatives/nibetaseries_no_atlas/sub-041/func/sub-041_task-boldRun4_run-1_space-MNI152NLin2009cAsym_desc-E_betaseries.nii.gz', '/mnt/chrastil/lab/users/lily/face_direction_decision_point/localizer_beta_series_all_run_exploration/derivatives/nibetaseries_no_atlas/sub-041/func/sub-041_task-boldRun2_run-1_space-MNI152NLin2009cAsym_desc-E_betaseries.nii.gz', '/mnt/chrastil/lab/users/lily/face_direction_decision_point/localizer_beta_series_all_run_exploration/derivatives/nibetaseries_no_atlas/sub-041/func/sub-041_task-boldRun6_run-1_space-MNI152NLin2009cAsym_desc-E_betaseries.nii.gz', '/mnt/chrastil/lab/users/lily/face_direction_decision_point/localizer_beta_series_all_run_exploration/derivatives/nibetaseries_no_atlas/sub-041/func/sub-041_task-boldRun1_run-1_space-MNI152NLin2009cAsym_desc-E_betaseries.nii.gz']\n",
      "['/mnt/chrastil/lab/users/lily/face_direction_decision_point/localizer_beta_series_all_run_exploration/derivatives/nibetaseries_no_atlas/sub-043/func/sub-043_task-boldRun3_run-1_space-MNI152NLin2009cAsym_desc-E_betaseries.nii.gz', '/mnt/chrastil/lab/users/lily/face_direction_decision_point/localizer_beta_series_all_run_exploration/derivatives/nibetaseries_no_atlas/sub-043/func/sub-043_task-boldRun2_run-1_space-MNI152NLin2009cAsym_desc-E_betaseries.nii.gz', '/mnt/chrastil/lab/users/lily/face_direction_decision_point/localizer_beta_series_all_run_exploration/derivatives/nibetaseries_no_atlas/sub-043/func/sub-043_task-boldRun6_run-1_space-MNI152NLin2009cAsym_desc-E_betaseries.nii.gz', '/mnt/chrastil/lab/users/lily/face_direction_decision_point/localizer_beta_series_all_run_exploration/derivatives/nibetaseries_no_atlas/sub-043/func/sub-043_task-boldRun5_run-1_space-MNI152NLin2009cAsym_desc-E_betaseries.nii.gz', '/mnt/chrastil/lab/users/lily/face_direction_decision_point/localizer_beta_series_all_run_exploration/derivatives/nibetaseries_no_atlas/sub-043/func/sub-043_task-boldRun4_run-2_space-MNI152NLin2009cAsym_desc-E_betaseries.nii.gz', '/mnt/chrastil/lab/users/lily/face_direction_decision_point/localizer_beta_series_all_run_exploration/derivatives/nibetaseries_no_atlas/sub-043/func/sub-043_task-boldRun1_run-1_space-MNI152NLin2009cAsym_desc-E_betaseries.nii.gz']\n"
     ]
    },
    {
     "name": "stderr",
     "output_type": "stream",
     "text": [
      "/home/lily/.local/lib/python3.7/site-packages/joblib/externals/loky/process_executor.py:691: UserWarning: A worker stopped while some jobs were given to the executor. This can be caused by a too short worker timeout or by a memory leak.\n",
      "  \"timeout or by a memory leak.\", UserWarning\n"
     ]
    },
    {
     "name": "stdout",
     "output_type": "stream",
     "text": [
      "['/mnt/chrastil/lab/users/lily/face_direction_decision_point/localizer_beta_series_all_run_exploration/derivatives/nibetaseries_no_atlas/sub-039/func/sub-039_task-boldRun5_run-1_space-MNI152NLin2009cAsym_desc-E_betaseries.nii.gz', '/mnt/chrastil/lab/users/lily/face_direction_decision_point/localizer_beta_series_all_run_exploration/derivatives/nibetaseries_no_atlas/sub-039/func/sub-039_task-boldRun3_run-1_space-MNI152NLin2009cAsym_desc-E_betaseries.nii.gz', '/mnt/chrastil/lab/users/lily/face_direction_decision_point/localizer_beta_series_all_run_exploration/derivatives/nibetaseries_no_atlas/sub-039/func/sub-039_task-boldRun2_run-1_space-MNI152NLin2009cAsym_desc-E_betaseries.nii.gz', '/mnt/chrastil/lab/users/lily/face_direction_decision_point/localizer_beta_series_all_run_exploration/derivatives/nibetaseries_no_atlas/sub-039/func/sub-039_task-boldRun6_run-1_space-MNI152NLin2009cAsym_desc-E_betaseries.nii.gz', '/mnt/chrastil/lab/users/lily/face_direction_decision_point/localizer_beta_series_all_run_exploration/derivatives/nibetaseries_no_atlas/sub-039/func/sub-039_task-boldRun1_run-1_space-MNI152NLin2009cAsym_desc-E_betaseries.nii.gz', '/mnt/chrastil/lab/users/lily/face_direction_decision_point/localizer_beta_series_all_run_exploration/derivatives/nibetaseries_no_atlas/sub-039/func/sub-039_task-boldRun4_run-1_space-MNI152NLin2009cAsym_desc-E_betaseries.nii.gz']\n"
     ]
    },
    {
     "name": "stderr",
     "output_type": "stream",
     "text": [
      "/home/lily/.local/lib/python3.7/site-packages/joblib/externals/loky/process_executor.py:691: UserWarning: A worker stopped while some jobs were given to the executor. This can be caused by a too short worker timeout or by a memory leak.\n",
      "  \"timeout or by a memory leak.\", UserWarning\n"
     ]
    }
   ],
   "source": [
    "import os\n",
    "import glob\n",
    "import numpy as np\n",
    "import pandas as pd\n",
    "import matplotlib.pyplot as plt\n",
    "import seaborn as sns\n",
    "import random\n",
    "from nltools.data import Brain_Data\n",
    "from nltools.mask import expand_mask\n",
    "from bids import BIDSLayout, BIDSValidator\n",
    "from sklearn.pipeline import make_pipeline\n",
    "from sklearn.preprocessing import MinMaxScaler\n",
    "from sklearn.model_selection import KFold, LeaveOneOut, GridSearchCV, cross_val_score\n",
    "from sklearn.svm import SVC\n",
    "from sklearn.model_selection import permutation_test_score\n",
    "\n",
    "#data_dir = '/mnt/chrastil/lab/users/lily/path_direction/localizer_beta_series_all_run_exploration'\n",
    "#data_dir1 = '/mnt/chrastil/lab/users/lily/path_direction/localizer_beta_series_all_run_exploration/derivatives/nibetaseries_no_atlas'\n",
    "data_dir = '/mnt/chrastil/lab/users/lily/face_direction_decision_point/localizer_beta_series_all_run_exploration'\n",
    "data_dir1 = '/mnt/chrastil/lab/users/lily/face_direction_decision_point/localizer_beta_series_all_run_exploration/derivatives/nibetaseries_no_atlas'\n",
    "\n",
    "\n",
    "folder = 'func'\n",
    "\n",
    "file_list = glob.glob(os.path.join(data_dir1, 'sub*'))\n",
    "\n",
    "# create a dataframe to store data\n",
    "colnames = ['sub', 'thalamus', 'retrosplenial', 'precuneus', 'extrastriate', 'early_visual', 'auditory']\n",
    "roi_test = pd.DataFrame(np.zeros((len(file_list), len(colnames))), columns = colnames)\n",
    "roi_test_rand = pd.DataFrame(np.zeros((len(file_list), len(colnames))), columns = colnames)\n",
    "\n",
    "counter = 0\n",
    "for i in file_list:\n",
    "    sub_num = str.split(i, '/')[-1]\n",
    "    \n",
    "    # save subject number\n",
    "    input_subnum = str.split(sub_num,'-')[-1]\n",
    "    roi_test.iloc[counter]['sub'] = int(input_subnum)\n",
    "    roi_test_rand.iloc[counter]['sub'] = int(input_subnum)\n",
    "    \n",
    "    # create raw data\n",
    "    E_file_list = glob.glob(os.path.join(data_dir, 'derivatives', 'nibetaseries_no_atlas',sub_num, folder,'*Run*_desc-E*.nii.gz'))\n",
    "    E = Brain_Data(E_file_list)\n",
    "    print(E_file_list)\n",
    "    \n",
    "    N_file_list = glob.glob(os.path.join(data_dir,  'derivatives', 'nibetaseries_no_atlas',sub_num,folder,'*Run*_desc-N*.nii.gz'))\n",
    "    N = Brain_Data(N_file_list)\n",
    "\n",
    "    W_file_list = glob.glob(os.path.join(data_dir, 'derivatives', 'nibetaseries_no_atlas',sub_num,folder,'*Run*_desc-W*.nii.gz'))\n",
    "    W = Brain_Data(W_file_list)\n",
    "\n",
    "    S_file_list = glob.glob(os.path.join(data_dir, 'derivatives', 'nibetaseries_no_atlas',sub_num,folder,'*Run*_desc-S*.nii.gz'))\n",
    "    S = Brain_Data(S_file_list)\n",
    "\n",
    "    data = E.append(N)\n",
    "    data = data.append(W)\n",
    "    data = data.append(S)\n",
    "    Y = pd.DataFrame(np.hstack([np.zeros(len(E.data)), np.ones(len(N.data)),2*np.ones(len(W.data)), 3*np.ones(len(S.data))]))\n",
    "    data.Y = Y\n",
    "\n",
    "    # read subcortical template\n",
    "    atlas_mni_file = os.path.join(data_dir,\n",
    "                                  \"derivatives\",\n",
    "                                  \"data\",\n",
    "                                  \"HarvardOxford-sub-maxprob-thr25-1mm.nii.gz\")\n",
    "\n",
    "\n",
    "    mask = Brain_Data(atlas_mni_file)\n",
    "    mask_x = expand_mask(mask)\n",
    "\n",
    "\n",
    "    ####################### THALAMUS ##############################\n",
    "    # index - 1 for all because this is python!!!\n",
    "    tha = mask_x[[4-1,15-1]].sum() # thalamus\n",
    "\n",
    "    data_masked = data.apply_mask(tha)\n",
    "\n",
    "    X = data_masked.data\n",
    "    Y = data_masked.Y.values.ravel()\n",
    "\n",
    "    kfold1 = KFold(n_splits = 3, shuffle = True, random_state = 0)\n",
    "    kfold2 = KFold(n_splits = 10, shuffle = True, random_state = 0)\n",
    "    param_grid = {'C':[0.001,0.01,0.1,1,10,100], 'gamma':[0.001,0.01,0.1,1,10,100] }\n",
    "\n",
    "    X_std = MinMaxScaler().fit_transform(X)\n",
    "    svc = SVC(kernel = \"rbf\")\n",
    "    cv_scores = cross_val_score(GridSearchCV(svc, param_grid, cv = kfold1, n_jobs = -1), X_std, Y, cv= kfold2, n_jobs = -1)\n",
    "\n",
    "\n",
    "    classification_accuracy = cv_scores.mean()\n",
    "    roi_test.iloc[counter]['thalamus'] = classification_accuracy\n",
    "#     print(\"Accuracy of thalamus:{:.3f}\".format(classification_accuracy))\n",
    "                                   \n",
    "\n",
    "    Z = Y.copy()\n",
    "    random.shuffle(Z)\n",
    "    cv_scores2 = cross_val_score(GridSearchCV(svc, param_grid, cv = kfold1, n_jobs = -1), X_std, Z, cv= kfold2, n_jobs = -1)\n",
    "\n",
    "\n",
    "    classification_accuracy2 = cv_scores2.mean()\n",
    "    roi_test_rand.iloc[counter]['thalamus'] = classification_accuracy2\n",
    "#     print(\"Accuracy of thalamus random:{:.3f}\".format(classification_accuracy2))\n",
    "    \n",
    "\n",
    "    ####################### RETROSPLENIAL CORTEX ##############################\n",
    "\n",
    "    # read cortical template\n",
    "    atlas_mni_file = os.path.join(data_dir,\n",
    "                                  \"derivatives\",\n",
    "                                  \"data\",\n",
    "                                  \"Schaefer2018_100Parcels_17Networks_order_FSLMNI152_1mm.nii.gz\")\n",
    "    mask = Brain_Data(atlas_mni_file)\n",
    "    mask_x = expand_mask(mask)\n",
    "\n",
    "    # f = mask.plot()\n",
    "\n",
    "    rsc = mask_x[[48-1,96-1]].sum() # retrosplenial cortex\n",
    "\n",
    "    data_masked = data.apply_mask(rsc)\n",
    "\n",
    "    X = data_masked.data\n",
    "    Y = data_masked.Y.values.ravel()\n",
    "\n",
    "    kfold = KFold(n_splits = 10, shuffle = True, random_state = 0)\n",
    "    param_grid = {'C':[0.001,0.01,0.1,1,10,100], 'gamma':[0.001,0.01,0.1,1,10,100] }\n",
    "\n",
    "    X_std = MinMaxScaler().fit_transform(X)\n",
    "    svc = SVC(kernel = \"rbf\")\n",
    "    cv_scores = cross_val_score(GridSearchCV(svc, param_grid, cv = kfold1, n_jobs = -1), X_std, Y, cv= kfold2, n_jobs = -1)\n",
    "\n",
    "\n",
    "    classification_accuracy = cv_scores.mean()\n",
    "    roi_test.iloc[counter]['retrosplenial'] = classification_accuracy\n",
    "#     print(\"Accuracy of retrosplenial cortex:{:.3f}\".format(classification_accuracy))\n",
    "\n",
    "    Z = Y.copy()\n",
    "    random.shuffle(Z)\n",
    "    cv_scores2 = cross_val_score(GridSearchCV(svc, param_grid, cv = kfold1, n_jobs = -1), X_std, Z, cv= kfold2, n_jobs = -1)\n",
    "\n",
    "\n",
    "    classification_accuracy2 = cv_scores2.mean()\n",
    "    roi_test_rand.iloc[counter]['retrosplenial'] = classification_accuracy2\n",
    "#     print(\"Accuracy of retrosplenial cortex random:{:.3f}\".format(classification_accuracy2))\n",
    "\n",
    "    ####################### PRECUNEUS ##############################\n",
    "    pcun = mask_x[[35-1,36-1]].sum() # precuneus\n",
    "\n",
    "    data_masked = data.apply_mask(pcun)\n",
    "\n",
    "    X = data_masked.data\n",
    "    Y = data_masked.Y.values.ravel()\n",
    "\n",
    "    kfold = KFold(n_splits = 10, shuffle = True, random_state = 0)\n",
    "    param_grid = {'C':[0.001,0.01,0.1,1,10,100], 'gamma':[0.001,0.01,0.1,1,10,100] }\n",
    "\n",
    "    X_std = MinMaxScaler().fit_transform(X)\n",
    "    svc = SVC(kernel = \"rbf\")\n",
    "    cv_scores = cross_val_score(GridSearchCV(svc, param_grid, cv = kfold1, n_jobs = -1), X_std, Y, cv= kfold2, n_jobs = -1)\n",
    "\n",
    "\n",
    "    classification_accuracy = cv_scores.mean()\n",
    "    roi_test.iloc[counter]['precuneus'] = classification_accuracy\n",
    "#     print(\"Accuracy of precuneus:{:.3f}\".format(classification_accuracy))\n",
    "\n",
    "    Z = Y.copy()\n",
    "    random.shuffle(Z)\n",
    "    cv_scores2 = cross_val_score(GridSearchCV(svc, param_grid, cv = kfold1, n_jobs = -1), X_std, Z, cv= kfold2, n_jobs = -1)\n",
    "\n",
    "\n",
    "    classification_accuracy2 = cv_scores2.mean()\n",
    "    roi_test_rand.iloc[counter]['precuneus'] = classification_accuracy2\n",
    "#     print(\"Accuracy of precuneus random:{:.3f}\".format(classification_accuracy2))\n",
    "\n",
    "    ####################### EXTRASTRIATE CORTEX ##############################\n",
    "    ext = mask_x[[1-1,2-1,4-1,51-1,52-1,53-1]].sum() # extrastriate cortex\n",
    "\n",
    "    data_masked = data.apply_mask(ext)\n",
    "\n",
    "    X = data_masked.data\n",
    "    Y = data_masked.Y.values.ravel()\n",
    "\n",
    "    kfold = KFold(n_splits = 10, shuffle = True, random_state = 0)\n",
    "    param_grid = {'C':[0.001,0.01,0.1,1,10,100], 'gamma':[0.001,0.01,0.1,1,10,100] }\n",
    "\n",
    "    X_std = MinMaxScaler().fit_transform(X)\n",
    "    svc = SVC(kernel = \"rbf\")\n",
    "    cv_scores = cross_val_score(GridSearchCV(svc, param_grid, cv = kfold1, n_jobs = -1), X_std, Y, cv= kfold2, n_jobs = -1)\n",
    "\n",
    "\n",
    "    classification_accuracy = cv_scores.mean()\n",
    "    roi_test.iloc[counter]['extrastriate'] = classification_accuracy\n",
    "#     print(\"Accuracy of extrastriate cortex:{:.3f}\".format(classification_accuracy))\n",
    "\n",
    "    Z = Y.copy()\n",
    "    random.shuffle(Z)\n",
    "    cv_scores2 = cross_val_score(GridSearchCV(svc, param_grid, cv = kfold1, n_jobs = -1), X_std, Z, cv= kfold2, n_jobs = -1)\n",
    "\n",
    "\n",
    "    classification_accuracy2 = cv_scores2.mean()\n",
    "    roi_test_rand.iloc[counter]['extrastriate'] = classification_accuracy2\n",
    "\n",
    "#     print(\"Accuracy of extrastriate cortex random:{:.3f}\".format(classification_accuracy2))\n",
    "\n",
    "    ####################### EARLY VISUAL CORTEX ##############################\n",
    "    evc = mask_x[[3-1,6-1,54-1]].sum() # striate cortex + peri strical\n",
    "    data_masked = data.apply_mask(evc)\n",
    "\n",
    "    X = data_masked.data\n",
    "    Y = data_masked.Y.values.ravel()\n",
    "\n",
    "    kfold = KFold(n_splits = 10, shuffle = True, random_state = 0)\n",
    "    param_grid = {'C':[0.001,0.01,0.1,1,10,100], 'gamma':[0.001,0.01,0.1,1,10,100] }\n",
    "\n",
    "    X_std = MinMaxScaler().fit_transform(X)\n",
    "    svc = SVC(kernel = \"rbf\")\n",
    "    cv_scores = cross_val_score(GridSearchCV(svc, param_grid, cv = kfold1, n_jobs = -1), X_std, Y, cv= kfold2, n_jobs = -1)\n",
    "\n",
    "\n",
    "    classification_accuracy = cv_scores.mean()\n",
    "    roi_test.iloc[counter]['early_visual'] = classification_accuracy\n",
    "#     print(\"Accuracy of early visual cortex:{:.3f}\".format(classification_accuracy))\n",
    "\n",
    "    Z = Y.copy()\n",
    "    random.shuffle(Z)\n",
    "    cv_scores2 = cross_val_score(GridSearchCV(svc, param_grid, cv = kfold1, n_jobs = -1), X_std, Z, cv= kfold2, n_jobs = -1)\n",
    "\n",
    "\n",
    "    classification_accuracy2 = cv_scores2.mean()\n",
    "    roi_test_rand.iloc[counter]['early_visual'] = classification_accuracy2\n",
    "#     print(\"Accuracy of early visual cortex random:{:.3f}\".format(classification_accuracy2))\n",
    "\n",
    "    ####################### AUDITORY CORTEX ##############################\n",
    "    aud = mask_x[[10-1,61-1]].sum() # striate cortex + peri strical\n",
    "    data_masked = data.apply_mask(aud)\n",
    "\n",
    "    X = data_masked.data\n",
    "    Y = data_masked.Y.values.ravel()\n",
    "\n",
    "    kfold = KFold(n_splits = 10, shuffle = True, random_state = 0)\n",
    "    param_grid = {'C':[0.001,0.01,0.1,1,10,100], 'gamma':[0.001,0.01,0.1,1,10,100] }\n",
    "\n",
    "    X_std = MinMaxScaler().fit_transform(X)\n",
    "    svc = SVC(kernel = \"rbf\")\n",
    "    cv_scores = cross_val_score(GridSearchCV(svc, param_grid, cv = kfold1, n_jobs = -1), X_std, Y, cv= kfold2, n_jobs = -1)\n",
    "\n",
    "\n",
    "    classification_accuracy = cv_scores.mean()\n",
    "    roi_test.iloc[counter]['auditory'] = classification_accuracy\n",
    "#     print(\"Accuracy of auditory cortex:{:.3f}\".format(classification_accuracy))\n",
    "\n",
    "    Z = Y.copy()\n",
    "    random.shuffle(Z)\n",
    "    cv_scores2 = cross_val_score(GridSearchCV(svc, param_grid, cv = kfold1, n_jobs = -1), X_std, Z, cv= kfold2, n_jobs = -1)\n",
    "\n",
    "\n",
    "    classification_accuracy2 = cv_scores2.mean()\n",
    "    roi_test_rand.iloc[counter]['auditory'] = classification_accuracy2\n",
    "#     print(\"Accuracy of auditory cortex random:{:.3f}\".format(classification_accuracy2))\n",
    "    counter += 1\n",
    "\n",
    "# save data file\n",
    "#str_name = data_dir + '/translation_movement_test.csv'\n",
    "str_name = data_dir + '/decision_point_allo_test.csv'\n",
    "roi_test.to_csv(str_name, index=False)\n",
    "\n",
    "#str_name_rand = data_dir + '/translation_movement_test_rand.csv'\n",
    "str_name_rand = data_dir + '/decision_point_allo_test_rand.csv'\n",
    "roi_test_rand.to_csv(str_name_rand, index=False)"
   ]
  },
  {
   "cell_type": "code",
   "execution_count": null,
   "metadata": {},
   "outputs": [],
   "source": []
  }
 ],
 "metadata": {
  "kernelspec": {
   "display_name": "Python 3",
   "language": "python",
   "name": "python3"
  },
  "language_info": {
   "codemirror_mode": {
    "name": "ipython",
    "version": 3
   },
   "file_extension": ".py",
   "mimetype": "text/x-python",
   "name": "python",
   "nbconvert_exporter": "python",
   "pygments_lexer": "ipython3",
   "version": "3.7.7"
  }
 },
 "nbformat": 4,
 "nbformat_minor": 4
}
